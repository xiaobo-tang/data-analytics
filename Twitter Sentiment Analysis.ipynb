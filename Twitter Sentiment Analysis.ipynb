{
 "cells": [
  {
   "cell_type": "markdown",
   "metadata": {},
   "source": [
    "# Twitter Sentiment Analysis"
   ]
  },
  {
   "cell_type": "markdown",
   "metadata": {},
   "source": [
    "## Preparing"
   ]
  },
  {
   "cell_type": "markdown",
   "metadata": {},
   "source": [
    "Installing and importing packages."
   ]
  },
  {
   "cell_type": "code",
   "execution_count": 1,
   "metadata": {},
   "outputs": [
    {
     "name": "stdout",
     "output_type": "stream",
     "text": [
      "Requirement already satisfied: wordcloud in /Applications/anaconda3/lib/python3.6/site-packages\n",
      "Requirement already satisfied: matplotlib in /Applications/anaconda3/lib/python3.6/site-packages (from wordcloud)\n",
      "Requirement already satisfied: numpy>=1.6.1 in /Applications/anaconda3/lib/python3.6/site-packages (from wordcloud)\n",
      "Requirement already satisfied: pillow in /Applications/anaconda3/lib/python3.6/site-packages (from wordcloud)\n",
      "Requirement already satisfied: six>=1.10 in /Applications/anaconda3/lib/python3.6/site-packages (from matplotlib->wordcloud)\n",
      "Requirement already satisfied: python-dateutil>=2.0 in /Applications/anaconda3/lib/python3.6/site-packages (from matplotlib->wordcloud)\n",
      "Requirement already satisfied: pytz in /Applications/anaconda3/lib/python3.6/site-packages (from matplotlib->wordcloud)\n",
      "Requirement already satisfied: cycler>=0.10 in /Applications/anaconda3/lib/python3.6/site-packages (from matplotlib->wordcloud)\n",
      "Requirement already satisfied: pyparsing!=2.0.4,!=2.1.2,!=2.1.6,>=2.0.1 in /Applications/anaconda3/lib/python3.6/site-packages (from matplotlib->wordcloud)\n",
      "Requirement already satisfied: olefile in /Applications/anaconda3/lib/python3.6/site-packages (from pillow->wordcloud)\n",
      "Requirement already satisfied: unidecode in /Applications/anaconda3/lib/python3.6/site-packages\n"
     ]
    }
   ],
   "source": [
    "!pip install wordcloud\n",
    "!pip install unidecode"
   ]
  },
  {
   "cell_type": "code",
   "execution_count": 2,
   "metadata": {},
   "outputs": [
    {
     "name": "stdout",
     "output_type": "stream",
     "text": [
      "[nltk_data] Downloading package punkt to\n",
      "[nltk_data]     /Users/adriantt727/nltk_data...\n",
      "[nltk_data]   Package punkt is already up-to-date!\n"
     ]
    },
    {
     "data": {
      "text/plain": [
       "True"
      ]
     },
     "execution_count": 2,
     "metadata": {},
     "output_type": "execute_result"
    }
   ],
   "source": [
    "import nltk\n",
    "nltk.download('punkt')"
   ]
  },
  {
   "cell_type": "code",
   "execution_count": 3,
   "metadata": {},
   "outputs": [
    {
     "name": "stderr",
     "output_type": "stream",
     "text": [
      "/Applications/anaconda3/lib/python3.6/site-packages/sklearn/cross_validation.py:41: DeprecationWarning: This module was deprecated in version 0.18 in favor of the model_selection module into which all the refactored classes and functions are moved. Also note that the interface of the new CV iterators are different from that of this module. This module will be removed in 0.20.\n",
      "  \"This module will be removed in 0.20.\", DeprecationWarning)\n"
     ]
    }
   ],
   "source": [
    "from sklearn.feature_extraction.text import CountVectorizer        \n",
    "from nltk.stem.porter import PorterStemmer\n",
    "\n",
    "import sklearn\n",
    "from sklearn.cross_validation import train_test_split\n",
    "from sklearn.linear_model import LogisticRegression\n",
    "from sklearn.metrics import classification_report"
   ]
  },
  {
   "cell_type": "code",
   "execution_count": 4,
   "metadata": {
    "collapsed": true
   },
   "outputs": [],
   "source": [
    "import re\n",
    "import unidecode\n",
    "\n",
    "import string\n",
    "from string import digits\n",
    "\n",
    "import pandas as pd\n",
    "import numpy as np\n",
    "import matplotlib.pyplot as plt\n",
    "\n",
    "from wordcloud import WordCloud, STOPWORDS\n",
    "\n",
    "#to show plots inline in notebooks\n",
    "%matplotlib inline"
   ]
  },
  {
   "cell_type": "markdown",
   "metadata": {},
   "source": [
    "I will work with the \"classified\" tweets first in preparation for the model."
   ]
  },
  {
   "cell_type": "markdown",
   "metadata": {},
   "source": [
    "# Data Cleaning - Classified Tweets"
   ]
  },
  {
   "cell_type": "markdown",
   "metadata": {},
   "source": [
    "Read the classified tweets and save them to a data frame to prepare for text cleaning (later I found out executing cleaning operations on a dataframe is actually very slow, so when I clean the unclassfied tweets, I will use a different approach - read everything into one single string directly and break them up to individual tweets after cleanning."
   ]
  },
  {
   "cell_type": "code",
   "execution_count": 5,
   "metadata": {
    "collapsed": true
   },
   "outputs": [],
   "source": [
    "#read file and save lines to a list\n",
    "classified_tweets_data = []\n",
    "with open('classified_tweets.txt', 'r') as classified_tweets_file:\n",
    "    for line in classified_tweets_file:\n",
    "        classified_tweets_data.append(line)"
   ]
  },
  {
   "cell_type": "code",
   "execution_count": 6,
   "metadata": {
    "collapsed": true
   },
   "outputs": [],
   "source": [
    "#extract each element in classified_tweets_data and get the text inside the double quotations \n",
    "#and then save it to a list\n",
    "data_list =[]\n",
    "for items in classified_tweets_data:\n",
    "    data_list.append((re.findall(r'\"([^\"]*)\"', items)))\n",
    "\n",
    "#create a dictionary for which the elements of the first list of aa become keys and each key's values are taken\n",
    "#from remaining lists's corresponding elements    \n",
    "keys = data_list[0] #the first list element of the data_list list contains our keys or column names\n",
    "values = data_list[1:]\n",
    "#map the values to keys to form a dictionary\n",
    "data_dic = {x:list(y) for x,y in zip(keys, zip(*values))}\n",
    "#form a dataframe from the dictionary and rearrange the sequance of each column\n",
    "df_classified = pd.DataFrame(data_dic, columns=['class', 'id', 'date', 'query', 'user', 'text'])"
   ]
  },
  {
   "cell_type": "code",
   "execution_count": 7,
   "metadata": {
    "scrolled": true
   },
   "outputs": [
    {
     "data": {
      "text/html": [
       "<div>\n",
       "<style>\n",
       "    .dataframe thead tr:only-child th {\n",
       "        text-align: right;\n",
       "    }\n",
       "\n",
       "    .dataframe thead th {\n",
       "        text-align: left;\n",
       "    }\n",
       "\n",
       "    .dataframe tbody tr th {\n",
       "        vertical-align: top;\n",
       "    }\n",
       "</style>\n",
       "<table border=\"1\" class=\"dataframe\">\n",
       "  <thead>\n",
       "    <tr style=\"text-align: right;\">\n",
       "      <th></th>\n",
       "      <th>class</th>\n",
       "      <th>id</th>\n",
       "      <th>date</th>\n",
       "      <th>query</th>\n",
       "      <th>user</th>\n",
       "      <th>text</th>\n",
       "    </tr>\n",
       "  </thead>\n",
       "  <tbody>\n",
       "    <tr>\n",
       "      <th>0</th>\n",
       "      <td>0</td>\n",
       "      <td>1467810369</td>\n",
       "      <td>Mon Apr 06 22:19:45 PDT 2009</td>\n",
       "      <td>NO_QUERY</td>\n",
       "      <td>_TheSpecialOne_</td>\n",
       "      <td>@switchfoot http://twitpic.com/2y1zl - Awww, t...</td>\n",
       "    </tr>\n",
       "    <tr>\n",
       "      <th>1</th>\n",
       "      <td>0</td>\n",
       "      <td>1467810672</td>\n",
       "      <td>Mon Apr 06 22:19:49 PDT 2009</td>\n",
       "      <td>NO_QUERY</td>\n",
       "      <td>scotthamilton</td>\n",
       "      <td>is upset that he can't update his Facebook by ...</td>\n",
       "    </tr>\n",
       "    <tr>\n",
       "      <th>2</th>\n",
       "      <td>0</td>\n",
       "      <td>1467810917</td>\n",
       "      <td>Mon Apr 06 22:19:53 PDT 2009</td>\n",
       "      <td>NO_QUERY</td>\n",
       "      <td>mattycus</td>\n",
       "      <td>@Kenichan I dived many times for the ball. Man...</td>\n",
       "    </tr>\n",
       "    <tr>\n",
       "      <th>3</th>\n",
       "      <td>0</td>\n",
       "      <td>1467811184</td>\n",
       "      <td>Mon Apr 06 22:19:57 PDT 2009</td>\n",
       "      <td>NO_QUERY</td>\n",
       "      <td>ElleCTF</td>\n",
       "      <td>my whole body feels itchy and like its on fire</td>\n",
       "    </tr>\n",
       "    <tr>\n",
       "      <th>4</th>\n",
       "      <td>0</td>\n",
       "      <td>1467811193</td>\n",
       "      <td>Mon Apr 06 22:19:57 PDT 2009</td>\n",
       "      <td>NO_QUERY</td>\n",
       "      <td>Karoli</td>\n",
       "      <td>@nationwideclass no, it's not behaving at all....</td>\n",
       "    </tr>\n",
       "  </tbody>\n",
       "</table>\n",
       "</div>"
      ],
      "text/plain": [
       "  class          id                          date     query             user  \\\n",
       "0     0  1467810369  Mon Apr 06 22:19:45 PDT 2009  NO_QUERY  _TheSpecialOne_   \n",
       "1     0  1467810672  Mon Apr 06 22:19:49 PDT 2009  NO_QUERY    scotthamilton   \n",
       "2     0  1467810917  Mon Apr 06 22:19:53 PDT 2009  NO_QUERY         mattycus   \n",
       "3     0  1467811184  Mon Apr 06 22:19:57 PDT 2009  NO_QUERY          ElleCTF   \n",
       "4     0  1467811193  Mon Apr 06 22:19:57 PDT 2009  NO_QUERY           Karoli   \n",
       "\n",
       "                                                text  \n",
       "0  @switchfoot http://twitpic.com/2y1zl - Awww, t...  \n",
       "1  is upset that he can't update his Facebook by ...  \n",
       "2  @Kenichan I dived many times for the ball. Man...  \n",
       "3    my whole body feels itchy and like its on fire   \n",
       "4  @nationwideclass no, it's not behaving at all....  "
      ]
     },
     "execution_count": 7,
     "metadata": {},
     "output_type": "execute_result"
    }
   ],
   "source": [
    "#display the first 5 rows of the classfied tweets dataframe\n",
    "df_classified.head()"
   ]
  },
  {
   "cell_type": "markdown",
   "metadata": {},
   "source": [
    "I used the supplied stop_words file to create a list of stop_words instead of using NLTK's English set. I did not add any other stopwords to the list."
   ]
  },
  {
   "cell_type": "code",
   "execution_count": 8,
   "metadata": {
    "collapsed": true
   },
   "outputs": [],
   "source": [
    "#read the provided stop_words.txt file and save its elements in a list as the stop words used here\n",
    "stop_words = []\n",
    "with open('stop_words.txt', 'r') as stopwords_file:\n",
    "    for lines in stopwords_file:\n",
    "        stop_words.append(lines.strip())\n",
    "\n",
    "#define my function to use the stop words list to remove stopwords of the classfied tweets\n",
    "def remove_stopwords(tweet_text):\n",
    "    \n",
    "    #split the text string word by word and put them in a list        \n",
    "    tweet_text_splited = tweet_text.split(' ')\n",
    "    #strip away all the stop words\n",
    "    resultwords  = [word for word in tweet_text_splited if word not in stop_words]\n",
    "    #put remaining words back together into a text string\n",
    "    tweet_text_stopwords_removed = ' '.join(resultwords)\n",
    "    \n",
    "    return tweet_text_stopwords_removed\n",
    "\n",
    "\n",
    "#define my cleanning function contains a series of cleaning operations for the classfied tweets\n",
    "def clean(df):\n",
    "    \n",
    "    copy_df = df.copy()\n",
    "    \n",
    "    for i,tweet in enumerate(copy_df.text):\n",
    "        #remove html tags and attributes\n",
    "        temp = re.sub(r'<[^>]+>','', tweet)\n",
    "    \n",
    "        #convert all non-ASCII characters to their closest ASCII equivalent \n",
    "        temp = unidecode.unidecode(temp)\n",
    "    \n",
    "        #remove URL\n",
    "        temp = re.sub(r'[a-z]*[:.]+\\S+', '', temp)\n",
    "    \n",
    "        #remove @username strings\n",
    "        temp = re.sub(r'(@[A-Za-z0-9]+)|([^0-9A-Za-z \\t])|(\\w+:\\/\\/\\S+)', '', temp)\n",
    "    \n",
    "        #remove all punctuations\n",
    "        translator = str.maketrans('', '', string.punctuation)\n",
    "        temp = temp.translate(translator)\n",
    "\n",
    "        #remove all digits\n",
    "        remove_digits = str.maketrans('', '', digits)\n",
    "        temp = temp.translate(remove_digits)\n",
    "    \n",
    "        #convert everything in text to lowercase\n",
    "        temp = temp.lower()\n",
    "        \n",
    "        #remove stop words\n",
    "        temp = remove_stopwords(temp)\n",
    "        \n",
    "        #update each row for the tweets\n",
    "        copy_df.text[i] = temp\n",
    "    \n",
    "    return copy_df"
   ]
  },
  {
   "cell_type": "markdown",
   "metadata": {},
   "source": [
    "## WARNING!!! \n",
    "As I previously mentioned, executing the cleaning function on such a hugh data frame is very slow so please be advised that if you run the next line of code, it would take about 10 minutes or so."
   ]
  },
  {
   "cell_type": "code",
   "execution_count": 9,
   "metadata": {
    "collapsed": true
   },
   "outputs": [],
   "source": [
    "#clean the classfied tweet texts\n",
    "df_classified_cleaned = clean(df_classified)"
   ]
  },
  {
   "cell_type": "code",
   "execution_count": 10,
   "metadata": {
    "scrolled": false
   },
   "outputs": [
    {
     "data": {
      "text/html": [
       "<div>\n",
       "<style>\n",
       "    .dataframe thead tr:only-child th {\n",
       "        text-align: right;\n",
       "    }\n",
       "\n",
       "    .dataframe thead th {\n",
       "        text-align: left;\n",
       "    }\n",
       "\n",
       "    .dataframe tbody tr th {\n",
       "        vertical-align: top;\n",
       "    }\n",
       "</style>\n",
       "<table border=\"1\" class=\"dataframe\">\n",
       "  <thead>\n",
       "    <tr style=\"text-align: right;\">\n",
       "      <th></th>\n",
       "      <th>class</th>\n",
       "      <th>id</th>\n",
       "      <th>date</th>\n",
       "      <th>query</th>\n",
       "      <th>user</th>\n",
       "      <th>text</th>\n",
       "    </tr>\n",
       "  </thead>\n",
       "  <tbody>\n",
       "    <tr>\n",
       "      <th>0</th>\n",
       "      <td>0</td>\n",
       "      <td>1467810369</td>\n",
       "      <td>Mon Apr 06 22:19:45 PDT 2009</td>\n",
       "      <td>NO_QUERY</td>\n",
       "      <td>_TheSpecialOne_</td>\n",
       "      <td>awww bummer  shoulda david carr third day</td>\n",
       "    </tr>\n",
       "    <tr>\n",
       "      <th>1</th>\n",
       "      <td>0</td>\n",
       "      <td>1467810672</td>\n",
       "      <td>Mon Apr 06 22:19:49 PDT 2009</td>\n",
       "      <td>NO_QUERY</td>\n",
       "      <td>scotthamilton</td>\n",
       "      <td>upset cant update facebook texting  cry result...</td>\n",
       "    </tr>\n",
       "    <tr>\n",
       "      <th>2</th>\n",
       "      <td>0</td>\n",
       "      <td>1467810917</td>\n",
       "      <td>Mon Apr 06 22:19:53 PDT 2009</td>\n",
       "      <td>NO_QUERY</td>\n",
       "      <td>mattycus</td>\n",
       "      <td>dived times ball managed save   rest bounds</td>\n",
       "    </tr>\n",
       "    <tr>\n",
       "      <th>3</th>\n",
       "      <td>0</td>\n",
       "      <td>1467811184</td>\n",
       "      <td>Mon Apr 06 22:19:57 PDT 2009</td>\n",
       "      <td>NO_QUERY</td>\n",
       "      <td>ElleCTF</td>\n",
       "      <td>body feels itchy fire</td>\n",
       "    </tr>\n",
       "    <tr>\n",
       "      <th>4</th>\n",
       "      <td>0</td>\n",
       "      <td>1467811193</td>\n",
       "      <td>Mon Apr 06 22:19:57 PDT 2009</td>\n",
       "      <td>NO_QUERY</td>\n",
       "      <td>Karoli</td>\n",
       "      <td>behaving mad cant</td>\n",
       "    </tr>\n",
       "  </tbody>\n",
       "</table>\n",
       "</div>"
      ],
      "text/plain": [
       "  class          id                          date     query             user  \\\n",
       "0     0  1467810369  Mon Apr 06 22:19:45 PDT 2009  NO_QUERY  _TheSpecialOne_   \n",
       "1     0  1467810672  Mon Apr 06 22:19:49 PDT 2009  NO_QUERY    scotthamilton   \n",
       "2     0  1467810917  Mon Apr 06 22:19:53 PDT 2009  NO_QUERY         mattycus   \n",
       "3     0  1467811184  Mon Apr 06 22:19:57 PDT 2009  NO_QUERY          ElleCTF   \n",
       "4     0  1467811193  Mon Apr 06 22:19:57 PDT 2009  NO_QUERY           Karoli   \n",
       "\n",
       "                                                text  \n",
       "0          awww bummer  shoulda david carr third day  \n",
       "1  upset cant update facebook texting  cry result...  \n",
       "2        dived times ball managed save   rest bounds  \n",
       "3                             body feels itchy fire   \n",
       "4                                 behaving mad cant   "
      ]
     },
     "execution_count": 10,
     "metadata": {},
     "output_type": "execute_result"
    }
   ],
   "source": [
    "#displace the first 5 rows of cleaned data\n",
    "df_classified_cleaned.head()"
   ]
  },
  {
   "cell_type": "markdown",
   "metadata": {},
   "source": [
    "## Exploratory Analysis Plot - Classified Tweet\n",
    "I will do a WordCloud for the classified tweets."
   ]
  },
  {
   "cell_type": "code",
   "execution_count": 15,
   "metadata": {
    "collapsed": true
   },
   "outputs": [],
   "source": [
    "#cast the tweets to strings in a pandas series\n",
    "df_classified_cleaned_str = df_classified_cleaned['text'].astype(str)\n",
    "\n",
    "#put each tweet string into a list\n",
    "st_list = []\n",
    "for item in df_classified_cleaned_str:\n",
    "    st_list.append(item)\n",
    "\n",
    "#join all strings in the list to one whole string to be used for the Wordcloud    \n",
    "text_string = ''.join(st_list)"
   ]
  },
  {
   "cell_type": "code",
   "execution_count": 16,
   "metadata": {},
   "outputs": [
    {
     "data": {
      "image/png": "[encoded data removed]",
      "text/plain": [
       "<matplotlib.figure.Figure at 0x1a1ca7cfd0>"
      ]
     },
     "metadata": {},
     "output_type": "display_data"
    }
   ],
   "source": [
    "#generate the wordcloud with the string contains all the cleaned tweets\n",
    "wordcloud = WordCloud(background_color='white', width=2400, height=2000).generate(text_string)\n",
    "\n",
    "plt.imshow(wordcloud)\n",
    "plt.axis('on')\n",
    "plt.show()"
   ]
  },
  {
   "cell_type": "markdown",
   "metadata": {},
   "source": [
    "# Model Preparation"
   ]
  },
  {
   "cell_type": "markdown",
   "metadata": {},
   "source": [
    "Now with the classified tweets are cleaned and each tweet has a sentiment value, I can start to build the regression model."
   ]
  },
  {
   "cell_type": "code",
   "execution_count": 17,
   "metadata": {
    "collapsed": true
   },
   "outputs": [],
   "source": [
    "#the tokenize function will be used as the tokenizer for CountVectorizer.\n",
    "#the tokenize function also uses a stem_tokens function to apply a stemmer.\n",
    "#a stemmer is to remove the commoner morphological and inflexional endings from words in English.\n",
    "#For example the word ‘running’ will become ‘run’ so we won’t count ‘running’ and ‘run’ separately in our dataset.\n",
    "#It may improve the accuracy of our classifier.\n",
    "\n",
    "stemmer = PorterStemmer()\n",
    "\n",
    "#defin a stemmer function\n",
    "def stem_tokens(tokens, stemmer):\n",
    "    \n",
    "    stemmed = []\n",
    "    for item in tokens:\n",
    "        stemmed.append(stemmer.stem(item))\n",
    "        \n",
    "    return stemmed\n",
    "\n",
    "#define a tokenizer function\n",
    "def tokenize(text):\n",
    "    \n",
    "    tokens = nltk.word_tokenize(text)\n",
    "    stems = stem_tokens(tokens, stemmer)\n",
    "    \n",
    "    return stems"
   ]
  },
  {
   "cell_type": "markdown",
   "metadata": {},
   "source": [
    "Tuning the \"max_features\" to get a better predictive precision. If leave this number unspecified, my computer would run out of memory. When max_features was tuned from 150 to 2000, the model precision has jumped from as low as 66% up to 71%, and when set to 3000 it only gets to current 73% so this is the optimal value that my model could have."
   ]
  },
  {
   "cell_type": "code",
   "execution_count": 18,
   "metadata": {
    "collapsed": true
   },
   "outputs": [],
   "source": [
    "#initiate vectorizer that will be used to store the 3000 features\n",
    "vectorizer = CountVectorizer(analyzer = 'word', tokenizer = tokenize, max_features = 3000)"
   ]
  },
  {
   "cell_type": "code",
   "execution_count": 19,
   "metadata": {
    "collapsed": true
   },
   "outputs": [],
   "source": [
    "#fit and transform the model using the vectorizer by extracting 3000 features from all classified tweets\n",
    "#so the feature matrix is 200000 by 3000\n",
    "corpus_data_features = vectorizer.fit_transform(df_classified_cleaned.text.tolist())"
   ]
  },
  {
   "cell_type": "code",
   "execution_count": 20,
   "metadata": {
    "collapsed": true
   },
   "outputs": [],
   "source": [
    "#convert the feature vectors set to a nd array for easy-handeling\n",
    "#again the array has 200000 elements corresponding to the number of tweets\n",
    "#and each element has 3000 entries corresponding to each feature\n",
    "#if the feature exists for the tweet then it is 1 otherwise it is 0\n",
    "corpus_data_features_nd = corpus_data_features.toarray()"
   ]
  },
  {
   "cell_type": "code",
   "execution_count": 21,
   "metadata": {
    "collapsed": true
   },
   "outputs": [],
   "source": [
    "#split the classifled tweets data set to 70% of training set and 30% of test set\n",
    "#x is the corpus_data_features_nd and y is the sentiment values of the classified tweets\n",
    "X_train, X_test, y_train, y_test  = train_test_split(\n",
    "        corpus_data_features_nd, \n",
    "        df_classified_cleaned['class'],\n",
    "        train_size=0.70)"
   ]
  },
  {
   "cell_type": "code",
   "execution_count": 22,
   "metadata": {
    "collapsed": true
   },
   "outputs": [],
   "source": [
    "#train the model using the training set\n",
    "log_model = LogisticRegression()\n",
    "log_model = log_model.fit(X=X_train, y=y_train)"
   ]
  },
  {
   "cell_type": "code",
   "execution_count": 23,
   "metadata": {
    "collapsed": true
   },
   "outputs": [],
   "source": [
    "#predict the sentiment values for the test set using the model\n",
    "y_pred = log_model.predict(X_test)"
   ]
  },
  {
   "cell_type": "code",
   "execution_count": 24,
   "metadata": {},
   "outputs": [
    {
     "name": "stdout",
     "output_type": "stream",
     "text": [
      "             precision    recall  f1-score   support\n",
      "\n",
      "          0       0.75      0.69      0.72     29959\n",
      "          4       0.71      0.78      0.74     30041\n",
      "\n",
      "avg / total       0.73      0.73      0.73     60000\n",
      "\n"
     ]
    }
   ],
   "source": [
    "#comparing the predicted sentiment values with the actual sentiment values\n",
    "print(classification_report(y_test, y_pred))"
   ]
  },
  {
   "cell_type": "markdown",
   "metadata": {},
   "source": [
    "Now up to here, my regression model has been built/tunned and tested, it has an overall precision of 73% and recall rate of 73% as well (its pretty good). Next I will move on to prepare the unclassfied tweets."
   ]
  },
  {
   "cell_type": "markdown",
   "metadata": {},
   "source": [
    "# Data Cleaning - Unclassified Tweets"
   ]
  },
  {
   "cell_type": "markdown",
   "metadata": {},
   "source": [
    "Becuase the previous data cleaning process for the classified tweets was very slow. I decided to take on a different approach for the unclassfied tweets. Instead of reading everything to a pandas dataframe I am now reading everything into a single string."
   ]
  },
  {
   "cell_type": "code",
   "execution_count": 25,
   "metadata": {
    "collapsed": true
   },
   "outputs": [],
   "source": [
    "#read the data file into one string which makes data cleanning easier\n",
    "with open('unclassified_tweets.txt', 'r') as unclassified_tweets_file:\n",
    "    unclassified_tweets_data=unclassified_tweets_file.read()"
   ]
  },
  {
   "cell_type": "markdown",
   "metadata": {},
   "source": [
    "Similar to the cleanning operations for the classfied tweets, I used the given stopwords file to remove stop words in the unclassfied tweets."
   ]
  },
  {
   "cell_type": "code",
   "execution_count": 26,
   "metadata": {
    "collapsed": true
   },
   "outputs": [],
   "source": [
    "#remove html tags and attributes\n",
    "unclassified_tweets_data=re.sub(r'<[^>]+>','',unclassified_tweets_data)\n",
    "\n",
    "#convert all non-ASCII characters to their closest ASCII equivalent \n",
    "unclassified_tweets_data = unidecode.unidecode(unclassified_tweets_data)\n",
    "\n",
    "#remove URLs\n",
    "unclassified_tweets_data=re.sub(r'[a-z]*[:.]+\\S+','',unclassified_tweets_data)\n",
    "\n",
    "#remove all punctuations\n",
    "translator = str.maketrans('', '', string.punctuation)\n",
    "unclassified_tweets_data=unclassified_tweets_data.translate(translator)\n",
    "\n",
    "#remove all digits\n",
    "remove_digits = str.maketrans('', '', digits)\n",
    "unclassified_tweets_data = unclassified_tweets_data.translate(remove_digits)\n",
    "\n",
    "#convert everything in text to lowercase\n",
    "unclassified_tweets_data=unclassified_tweets_data.lower()\n",
    "\n",
    "#remove stop words\n",
    "unclassified_tweets_data = remove_stopwords(unclassified_tweets_data)"
   ]
  },
  {
   "cell_type": "code",
   "execution_count": 27,
   "metadata": {
    "collapsed": true
   },
   "outputs": [],
   "source": [
    "#break the list to a list of lists, each list contains a tweet\n",
    "tweet_list=unclassified_tweets_data.split('\\n')\n",
    "#filter out empty list elements that were resulted from spliting\n",
    "tweet_list = list(filter(None, tweet_list))"
   ]
  },
  {
   "cell_type": "code",
   "execution_count": 28,
   "metadata": {
    "collapsed": true
   },
   "outputs": [],
   "source": [
    "#put all tweets in a data frame and rename the column as \"text\"\n",
    "df_unclassified_cleaned=pd.DataFrame(tweet_list)\n",
    "df_unclassified_cleaned.columns=['text']"
   ]
  },
  {
   "cell_type": "code",
   "execution_count": 29,
   "metadata": {
    "scrolled": true
   },
   "outputs": [
    {
     "data": {
      "text/html": [
       "<div>\n",
       "<style>\n",
       "    .dataframe thead tr:only-child th {\n",
       "        text-align: right;\n",
       "    }\n",
       "\n",
       "    .dataframe thead th {\n",
       "        text-align: left;\n",
       "    }\n",
       "\n",
       "    .dataframe tbody tr th {\n",
       "        vertical-align: top;\n",
       "    }\n",
       "</style>\n",
       "<table border=\"1\" class=\"dataframe\">\n",
       "  <thead>\n",
       "    <tr style=\"text-align: right;\">\n",
       "      <th></th>\n",
       "      <th>text</th>\n",
       "    </tr>\n",
       "  </thead>\n",
       "  <tbody>\n",
       "    <tr>\n",
       "      <th>0</th>\n",
       "      <td>living dream cameraman camera cameraception ca...</td>\n",
       "    </tr>\n",
       "    <tr>\n",
       "      <th>1</th>\n",
       "      <td>justin trudeaus reasons thanksgiving todays mo...</td>\n",
       "    </tr>\n",
       "    <tr>\n",
       "      <th>2</th>\n",
       "      <td>themadape    allergic latex sneeze nbpoli cdnp...</td>\n",
       "    </tr>\n",
       "    <tr>\n",
       "      <th>3</th>\n",
       "      <td>massive explosions peace march turkey  killed...</td>\n",
       "    </tr>\n",
       "    <tr>\n",
       "      <th>4</th>\n",
       "      <td>mulcair suggests bad blood trudeau   readychan...</td>\n",
       "    </tr>\n",
       "  </tbody>\n",
       "</table>\n",
       "</div>"
      ],
      "text/plain": [
       "                                                text\n",
       "0  living dream cameraman camera cameraception ca...\n",
       "1  justin trudeaus reasons thanksgiving todays mo...\n",
       "2  themadape    allergic latex sneeze nbpoli cdnp...\n",
       "3   massive explosions peace march turkey  killed...\n",
       "4  mulcair suggests bad blood trudeau   readychan..."
      ]
     },
     "execution_count": 29,
     "metadata": {},
     "output_type": "execute_result"
    }
   ],
   "source": [
    "#displace the first 5 rows of the dataframe that contains all the unclassified tweets\n",
    "df_unclassified_cleaned.head()"
   ]
  },
  {
   "cell_type": "markdown",
   "metadata": {},
   "source": [
    "## Exploratory Analysis Plot - Unclassified Tweets"
   ]
  },
  {
   "cell_type": "code",
   "execution_count": 30,
   "metadata": {
    "collapsed": true
   },
   "outputs": [],
   "source": [
    "#define keys words used to identify a political party of a tweet\n",
    "liberal_party = 'justin|trudeau|liberal'\n",
    "conservative_party = 'stephen|harper|conservative'\n",
    "democratic_party = 'tom|thomas|mulcair|democratic|ndp'\n",
    "\n",
    "#define a function to search for key words and match each tweets to a specific political party\n",
    "def word_in_text(tweet):\n",
    "\n",
    "    match_liberal = re.search(liberal_party, tweet)\n",
    "    match_conservative = re.search(conservative_party, tweet)\n",
    "    match_democratic = re.search(democratic_party, tweet)\n",
    "\n",
    "    if match_liberal:\n",
    "        return ('liberal')\n",
    "    if match_conservative:\n",
    "        return ('conservative')\n",
    "    if match_democratic:\n",
    "        return ('democratic')\n",
    "    else:\n",
    "        return ('others')"
   ]
  },
  {
   "cell_type": "code",
   "execution_count": 31,
   "metadata": {
    "collapsed": true
   },
   "outputs": [],
   "source": [
    "#create a new column to label the tweets if they belong to each party\n",
    "df_unclassified_cleaned['political party'] = df_unclassified_cleaned['text'].apply(lambda tweet: word_in_text(tweet))"
   ]
  },
  {
   "cell_type": "code",
   "execution_count": 32,
   "metadata": {},
   "outputs": [
    {
     "data": {
      "text/html": [
       "<div>\n",
       "<style>\n",
       "    .dataframe thead tr:only-child th {\n",
       "        text-align: right;\n",
       "    }\n",
       "\n",
       "    .dataframe thead th {\n",
       "        text-align: left;\n",
       "    }\n",
       "\n",
       "    .dataframe tbody tr th {\n",
       "        vertical-align: top;\n",
       "    }\n",
       "</style>\n",
       "<table border=\"1\" class=\"dataframe\">\n",
       "  <thead>\n",
       "    <tr style=\"text-align: right;\">\n",
       "      <th></th>\n",
       "      <th>text</th>\n",
       "      <th>political party</th>\n",
       "    </tr>\n",
       "  </thead>\n",
       "  <tbody>\n",
       "    <tr>\n",
       "      <th>0</th>\n",
       "      <td>living dream cameraman camera cameraception ca...</td>\n",
       "      <td>others</td>\n",
       "    </tr>\n",
       "    <tr>\n",
       "      <th>1</th>\n",
       "      <td>justin trudeaus reasons thanksgiving todays mo...</td>\n",
       "      <td>liberal</td>\n",
       "    </tr>\n",
       "    <tr>\n",
       "      <th>2</th>\n",
       "      <td>themadape    allergic latex sneeze nbpoli cdnp...</td>\n",
       "      <td>others</td>\n",
       "    </tr>\n",
       "    <tr>\n",
       "      <th>3</th>\n",
       "      <td>massive explosions peace march turkey  killed...</td>\n",
       "      <td>others</td>\n",
       "    </tr>\n",
       "    <tr>\n",
       "      <th>4</th>\n",
       "      <td>mulcair suggests bad blood trudeau   readychan...</td>\n",
       "      <td>liberal</td>\n",
       "    </tr>\n",
       "  </tbody>\n",
       "</table>\n",
       "</div>"
      ],
      "text/plain": [
       "                                                text political party\n",
       "0  living dream cameraman camera cameraception ca...          others\n",
       "1  justin trudeaus reasons thanksgiving todays mo...         liberal\n",
       "2  themadape    allergic latex sneeze nbpoli cdnp...          others\n",
       "3   massive explosions peace march turkey  killed...          others\n",
       "4  mulcair suggests bad blood trudeau   readychan...         liberal"
      ]
     },
     "execution_count": 32,
     "metadata": {},
     "output_type": "execute_result"
    }
   ],
   "source": [
    "#displace the first 5 rows of the labeled dataframe\n",
    "df_unclassified_cleaned.head()"
   ]
  },
  {
   "cell_type": "code",
   "execution_count": 33,
   "metadata": {},
   "outputs": [
    {
     "name": "stdout",
     "output_type": "stream",
     "text": [
      "636\n",
      "507\n",
      "354\n",
      "1576\n"
     ]
    }
   ],
   "source": [
    "#print the number of tweets that belong to each party\n",
    "print (df_unclassified_cleaned['political party'].value_counts()['liberal'])\n",
    "print (df_unclassified_cleaned['political party'].value_counts()['conservative'])\n",
    "print (df_unclassified_cleaned['political party'].value_counts()['democratic'])\n",
    "print (df_unclassified_cleaned['political party'].value_counts()['others'])"
   ]
  },
  {
   "cell_type": "code",
   "execution_count": 34,
   "metadata": {},
   "outputs": [
    {
     "data": {
      "image/png": "[encoded data removed]",
      "text/plain": [
       "<matplotlib.figure.Figure at 0x1a1d37a710>"
      ]
     },
     "metadata": {},
     "output_type": "display_data"
    }
   ],
   "source": [
    "#plot the number of tweets for each political party\n",
    "parties = ['Liberal', 'Conservative', 'Democratic', 'Others']\n",
    "tweets_by_parties = [df_unclassified_cleaned['political party'].value_counts()['liberal'], \n",
    "                     df_unclassified_cleaned['political party'].value_counts()['conservative'], \n",
    "                     df_unclassified_cleaned['political party'].value_counts()['democratic'],\n",
    "                     df_unclassified_cleaned['political party'].value_counts()['others']]\n",
    "\n",
    "x_pos = list(range(len(parties)))\n",
    "width = 0.8\n",
    "fig, ax = plt.subplots()\n",
    "plt.bar(x_pos, tweets_by_parties, width, alpha=1, align='center', color='g')\n",
    "\n",
    "ax.set_ylabel('Number of tweets', fontsize=15)\n",
    "ax.set_title('Ranking: Liberal vs. Conservative vs. Democratic vs. Others', fontsize=10, fontweight='bold')\n",
    "ax.set_xticks([p + 0.4 * width for p in x_pos])\n",
    "ax.set_xticklabels(parties)\n",
    "\n",
    "plt.grid()"
   ]
  },
  {
   "cell_type": "markdown",
   "metadata": {},
   "source": [
    "Even though the majorty of tweets are classified to \"Others\" but it may becuase of the limitation of my keywords that makes some of tweets unable to be correctly identified to a specific party. Moreover, a lot of those \"Others\" tweets may be totoally irrelevant to the elections meaning has nothing to do with any specific party. So if we ignore this category for now and only consider those tweets with parties have been explicitly identified, we can conclude that more tweets are talking about Liberal party than those about Convervative or Democratic."
   ]
  },
  {
   "cell_type": "markdown",
   "metadata": {},
   "source": [
    "I will also plot a WordCloud for unclassfied tweets."
   ]
  },
  {
   "cell_type": "code",
   "execution_count": 35,
   "metadata": {
    "collapsed": true
   },
   "outputs": [],
   "source": [
    "#cast the tweets to strings in a pandas series\n",
    "df_unclassified_cleaned_str = df_unclassified_cleaned['text'].astype(str)\n",
    "\n",
    "#put each tweet string into a list\n",
    "st_list = []\n",
    "for item in df_unclassified_cleaned_str:\n",
    "    st_list.append(item)\n",
    "\n",
    "#join all strings in the list to one whole string to be used for the Wordcloud    \n",
    "text_string = ''.join(st_list)"
   ]
  },
  {
   "cell_type": "code",
   "execution_count": 36,
   "metadata": {},
   "outputs": [
    {
     "data": {
      "image/png": "[encoded data removed]",
      "text/plain": [
       "<matplotlib.figure.Figure at 0x1a1d39c198>"
      ]
     },
     "metadata": {},
     "output_type": "display_data"
    }
   ],
   "source": [
    "#generate the wordcloud with the string contains all the cleaned tweets\n",
    "wordcloud = WordCloud(background_color='white', width=2400, height=2000).generate(text_string)\n",
    "\n",
    "plt.imshow(wordcloud)\n",
    "plt.axis('on')\n",
    "plt.show()"
   ]
  },
  {
   "cell_type": "markdown",
   "metadata": {},
   "source": [
    "Now with unclassfied tweets were cleaned I can go and use the regression model to predict the sentiment values for the unclassfied tweets."
   ]
  },
  {
   "cell_type": "code",
   "execution_count": 37,
   "metadata": {
    "collapsed": true
   },
   "outputs": [],
   "source": [
    "#re-train the model using all the classidied tweets instead of only 70% of them\n",
    "log_model = LogisticRegression()\n",
    "log_model = log_model.fit(X=corpus_data_features_nd, y=df_classified_cleaned['class'])"
   ]
  },
  {
   "cell_type": "code",
   "execution_count": 38,
   "metadata": {
    "collapsed": true
   },
   "outputs": [],
   "source": [
    "#get the features of the unclassified tweets\n",
    "unclassified_data_features = vectorizer.fit_transform(df_unclassified_cleaned.text.tolist())"
   ]
  },
  {
   "cell_type": "code",
   "execution_count": 39,
   "metadata": {
    "collapsed": true
   },
   "outputs": [],
   "source": [
    "#get predictions using the model and unclassified tweets' features\n",
    "test_pred = log_model.predict(unclassified_data_features)"
   ]
  },
  {
   "cell_type": "code",
   "execution_count": 40,
   "metadata": {
    "scrolled": false
   },
   "outputs": [
    {
     "data": {
      "text/html": [
       "<div>\n",
       "<style>\n",
       "    .dataframe thead tr:only-child th {\n",
       "        text-align: right;\n",
       "    }\n",
       "\n",
       "    .dataframe thead th {\n",
       "        text-align: left;\n",
       "    }\n",
       "\n",
       "    .dataframe tbody tr th {\n",
       "        vertical-align: top;\n",
       "    }\n",
       "</style>\n",
       "<table border=\"1\" class=\"dataframe\">\n",
       "  <thead>\n",
       "    <tr style=\"text-align: right;\">\n",
       "      <th></th>\n",
       "      <th>Sentiment</th>\n",
       "      <th>Text</th>\n",
       "      <th>Political Party</th>\n",
       "    </tr>\n",
       "  </thead>\n",
       "  <tbody>\n",
       "    <tr>\n",
       "      <th>0</th>\n",
       "      <td>4</td>\n",
       "      <td>living dream cameraman camera cameraception ca...</td>\n",
       "      <td>others</td>\n",
       "    </tr>\n",
       "    <tr>\n",
       "      <th>1</th>\n",
       "      <td>0</td>\n",
       "      <td>justin trudeaus reasons thanksgiving todays mo...</td>\n",
       "      <td>liberal</td>\n",
       "    </tr>\n",
       "    <tr>\n",
       "      <th>2</th>\n",
       "      <td>0</td>\n",
       "      <td>themadape    allergic latex sneeze nbpoli cdnp...</td>\n",
       "      <td>others</td>\n",
       "    </tr>\n",
       "    <tr>\n",
       "      <th>3</th>\n",
       "      <td>0</td>\n",
       "      <td>massive explosions peace march turkey  killed...</td>\n",
       "      <td>others</td>\n",
       "    </tr>\n",
       "    <tr>\n",
       "      <th>4</th>\n",
       "      <td>4</td>\n",
       "      <td>mulcair suggests bad blood trudeau   readychan...</td>\n",
       "      <td>liberal</td>\n",
       "    </tr>\n",
       "  </tbody>\n",
       "</table>\n",
       "</div>"
      ],
      "text/plain": [
       "  Sentiment                                               Text Political Party\n",
       "0         4  living dream cameraman camera cameraception ca...          others\n",
       "1         0  justin trudeaus reasons thanksgiving todays mo...         liberal\n",
       "2         0  themadape    allergic latex sneeze nbpoli cdnp...          others\n",
       "3         0   massive explosions peace march turkey  killed...          others\n",
       "4         4  mulcair suggests bad blood trudeau   readychan...         liberal"
      ]
     },
     "execution_count": 40,
     "metadata": {},
     "output_type": "execute_result"
    }
   ],
   "source": [
    "#put unclassified tweets together with their predicted sentiment values in a dataframe\n",
    "results = pd.DataFrame(list(zip(test_pred, df_unclassified_cleaned.text, df_unclassified_cleaned['political party'])), columns=['Sentiment','Text', 'Political Party'])\n",
    "#display the first 5 rows\n",
    "results.head()"
   ]
  },
  {
   "cell_type": "markdown",
   "metadata": {},
   "source": [
    "Display logistic regression results together with each tweet's party to see which political party would most likely get the most \"positive\" votes."
   ]
  },
  {
   "cell_type": "code",
   "execution_count": 41,
   "metadata": {},
   "outputs": [
    {
     "data": {
      "text/html": [
       "<div>\n",
       "<style>\n",
       "    .dataframe thead tr:only-child th {\n",
       "        text-align: right;\n",
       "    }\n",
       "\n",
       "    .dataframe thead th {\n",
       "        text-align: left;\n",
       "    }\n",
       "\n",
       "    .dataframe tbody tr th {\n",
       "        vertical-align: top;\n",
       "    }\n",
       "</style>\n",
       "<table border=\"1\" class=\"dataframe\">\n",
       "  <thead>\n",
       "    <tr style=\"text-align: right;\">\n",
       "      <th></th>\n",
       "      <th>Sentiment</th>\n",
       "      <th>Political Party</th>\n",
       "      <th>Counts</th>\n",
       "    </tr>\n",
       "  </thead>\n",
       "  <tbody>\n",
       "    <tr>\n",
       "      <th>0</th>\n",
       "      <td>0</td>\n",
       "      <td>conservative</td>\n",
       "      <td>261</td>\n",
       "    </tr>\n",
       "    <tr>\n",
       "      <th>1</th>\n",
       "      <td>0</td>\n",
       "      <td>democratic</td>\n",
       "      <td>164</td>\n",
       "    </tr>\n",
       "    <tr>\n",
       "      <th>2</th>\n",
       "      <td>0</td>\n",
       "      <td>liberal</td>\n",
       "      <td>386</td>\n",
       "    </tr>\n",
       "    <tr>\n",
       "      <th>3</th>\n",
       "      <td>0</td>\n",
       "      <td>others</td>\n",
       "      <td>747</td>\n",
       "    </tr>\n",
       "    <tr>\n",
       "      <th>4</th>\n",
       "      <td>4</td>\n",
       "      <td>conservative</td>\n",
       "      <td>246</td>\n",
       "    </tr>\n",
       "    <tr>\n",
       "      <th>5</th>\n",
       "      <td>4</td>\n",
       "      <td>democratic</td>\n",
       "      <td>190</td>\n",
       "    </tr>\n",
       "    <tr>\n",
       "      <th>6</th>\n",
       "      <td>4</td>\n",
       "      <td>liberal</td>\n",
       "      <td>250</td>\n",
       "    </tr>\n",
       "    <tr>\n",
       "      <th>7</th>\n",
       "      <td>4</td>\n",
       "      <td>others</td>\n",
       "      <td>829</td>\n",
       "    </tr>\n",
       "  </tbody>\n",
       "</table>\n",
       "</div>"
      ],
      "text/plain": [
       "  Sentiment Political Party  Counts\n",
       "0         0    conservative     261\n",
       "1         0      democratic     164\n",
       "2         0         liberal     386\n",
       "3         0          others     747\n",
       "4         4    conservative     246\n",
       "5         4      democratic     190\n",
       "6         4         liberal     250\n",
       "7         4          others     829"
      ]
     },
     "execution_count": 41,
     "metadata": {},
     "output_type": "execute_result"
    }
   ],
   "source": [
    "#group all the data in terms of positive/negative sentiment and belonging political party and show the counts\n",
    "stats = results.groupby(['Sentiment', 'Political Party']).size().reset_index(name='Counts')\n",
    "stats"
   ]
  },
  {
   "cell_type": "code",
   "execution_count": 42,
   "metadata": {
    "scrolled": false
   },
   "outputs": [
    {
     "data": {
      "text/html": [
       "<div>\n",
       "<style>\n",
       "    .dataframe thead tr:only-child th {\n",
       "        text-align: right;\n",
       "    }\n",
       "\n",
       "    .dataframe thead th {\n",
       "        text-align: left;\n",
       "    }\n",
       "\n",
       "    .dataframe tbody tr th {\n",
       "        vertical-align: top;\n",
       "    }\n",
       "</style>\n",
       "<table border=\"1\" class=\"dataframe\">\n",
       "  <thead>\n",
       "    <tr style=\"text-align: right;\">\n",
       "      <th></th>\n",
       "      <th>Sentiment</th>\n",
       "      <th>Political Party</th>\n",
       "      <th>Counts</th>\n",
       "    </tr>\n",
       "  </thead>\n",
       "  <tbody>\n",
       "    <tr>\n",
       "      <th>4</th>\n",
       "      <td>4</td>\n",
       "      <td>conservative</td>\n",
       "      <td>246</td>\n",
       "    </tr>\n",
       "    <tr>\n",
       "      <th>5</th>\n",
       "      <td>4</td>\n",
       "      <td>democratic</td>\n",
       "      <td>190</td>\n",
       "    </tr>\n",
       "    <tr>\n",
       "      <th>6</th>\n",
       "      <td>4</td>\n",
       "      <td>liberal</td>\n",
       "      <td>250</td>\n",
       "    </tr>\n",
       "    <tr>\n",
       "      <th>7</th>\n",
       "      <td>4</td>\n",
       "      <td>others</td>\n",
       "      <td>829</td>\n",
       "    </tr>\n",
       "  </tbody>\n",
       "</table>\n",
       "</div>"
      ],
      "text/plain": [
       "  Sentiment Political Party  Counts\n",
       "4         4    conservative     246\n",
       "5         4      democratic     190\n",
       "6         4         liberal     250\n",
       "7         4          others     829"
      ]
     },
     "execution_count": 42,
     "metadata": {},
     "output_type": "execute_result"
    }
   ],
   "source": [
    "#show only the positive counts for each political party\n",
    "positive_feedbacks = stats[stats['Sentiment'] == '4']\n",
    "positive_feedbacks"
   ]
  },
  {
   "cell_type": "code",
   "execution_count": 43,
   "metadata": {},
   "outputs": [
    {
     "name": "stdout",
     "output_type": "stream",
     "text": [
      "250 246 190\n"
     ]
    }
   ],
   "source": [
    "#print the totoal political counts for each political party and prepare them for ploting\n",
    "positive_liberal_count = positive_feedbacks.loc[positive_feedbacks['Political Party'] == 'liberal', 'Counts'].iloc[0]\n",
    "positive_conservative_count = positive_feedbacks.loc[positive_feedbacks['Political Party'] == 'conservative', 'Counts'].iloc[0]\n",
    "positive_democratic_count = positive_feedbacks.loc[positive_feedbacks['Political Party'] == 'democratic', 'Counts'].iloc[0]\n",
    "print (positive_liberal_count, positive_conservative_count, positive_democratic_count)"
   ]
  },
  {
   "cell_type": "code",
   "execution_count": 44,
   "metadata": {},
   "outputs": [
    {
     "data": {
      "image/png": "[encoded data removed]",
      "text/plain": [
       "<matplotlib.figure.Figure at 0x1a1d37a668>"
      ]
     },
     "metadata": {},
     "output_type": "display_data"
    }
   ],
   "source": [
    "#plot the number of tweets with positive sentiments for each political party\n",
    "parties = ['Liberal', 'Conservative', 'Democratic']\n",
    "tweets_by_parties = [positive_liberal_count, \n",
    "                     positive_conservative_count, \n",
    "                     positive_democratic_count]\n",
    "\n",
    "x_pos = list(range(len(parties)))\n",
    "width = 0.8\n",
    "fig, ax = plt.subplots()\n",
    "plt.bar(x_pos, tweets_by_parties, width, alpha=1, align='center', color='b')\n",
    "\n",
    "ax.set_ylabel('Number of positive tweets', fontsize=15)\n",
    "ax.set_title('Ranking: Liberal vs. Conservative vs. Democratic', fontsize=10, fontweight='bold')\n",
    "ax.set_xticks([p + 0.4 * width for p in x_pos])\n",
    "ax.set_xticklabels(parties)\n",
    "\n",
    "plt.grid()"
   ]
  },
  {
   "cell_type": "markdown",
   "metadata": {},
   "source": [
    "More people are more likely to vote for liberal party comparing to the other two."
   ]
  },
  {
   "cell_type": "markdown",
   "metadata": {},
   "source": [
    "### Naive Bayes Classification\n",
    "I will use Naive Bayes Mutinomial classification to train and test the model."
   ]
  },
  {
   "cell_type": "code",
   "execution_count": 89,
   "metadata": {},
   "outputs": [
    {
     "data": {
      "text/html": [
       "<div>\n",
       "<style>\n",
       "    .dataframe thead tr:only-child th {\n",
       "        text-align: right;\n",
       "    }\n",
       "\n",
       "    .dataframe thead th {\n",
       "        text-align: left;\n",
       "    }\n",
       "\n",
       "    .dataframe tbody tr th {\n",
       "        vertical-align: top;\n",
       "    }\n",
       "</style>\n",
       "<table border=\"1\" class=\"dataframe\">\n",
       "  <thead>\n",
       "    <tr style=\"text-align: right;\">\n",
       "      <th></th>\n",
       "      <th>class</th>\n",
       "      <th>id</th>\n",
       "      <th>date</th>\n",
       "      <th>query</th>\n",
       "      <th>user</th>\n",
       "      <th>text</th>\n",
       "    </tr>\n",
       "  </thead>\n",
       "  <tbody>\n",
       "    <tr>\n",
       "      <th>0</th>\n",
       "      <td>0</td>\n",
       "      <td>1467810369</td>\n",
       "      <td>Mon Apr 06 22:19:45 PDT 2009</td>\n",
       "      <td>NO_QUERY</td>\n",
       "      <td>_TheSpecialOne_</td>\n",
       "      <td>awww bummer  shoulda david carr third day</td>\n",
       "    </tr>\n",
       "    <tr>\n",
       "      <th>1</th>\n",
       "      <td>0</td>\n",
       "      <td>1467810672</td>\n",
       "      <td>Mon Apr 06 22:19:49 PDT 2009</td>\n",
       "      <td>NO_QUERY</td>\n",
       "      <td>scotthamilton</td>\n",
       "      <td>upset cant update facebook texting  cry result...</td>\n",
       "    </tr>\n",
       "    <tr>\n",
       "      <th>2</th>\n",
       "      <td>0</td>\n",
       "      <td>1467810917</td>\n",
       "      <td>Mon Apr 06 22:19:53 PDT 2009</td>\n",
       "      <td>NO_QUERY</td>\n",
       "      <td>mattycus</td>\n",
       "      <td>dived times ball managed save   rest bounds</td>\n",
       "    </tr>\n",
       "    <tr>\n",
       "      <th>3</th>\n",
       "      <td>0</td>\n",
       "      <td>1467811184</td>\n",
       "      <td>Mon Apr 06 22:19:57 PDT 2009</td>\n",
       "      <td>NO_QUERY</td>\n",
       "      <td>ElleCTF</td>\n",
       "      <td>body feels itchy fire</td>\n",
       "    </tr>\n",
       "    <tr>\n",
       "      <th>4</th>\n",
       "      <td>0</td>\n",
       "      <td>1467811193</td>\n",
       "      <td>Mon Apr 06 22:19:57 PDT 2009</td>\n",
       "      <td>NO_QUERY</td>\n",
       "      <td>Karoli</td>\n",
       "      <td>behaving mad cant</td>\n",
       "    </tr>\n",
       "  </tbody>\n",
       "</table>\n",
       "</div>"
      ],
      "text/plain": [
       "  class          id                          date     query             user  \\\n",
       "0     0  1467810369  Mon Apr 06 22:19:45 PDT 2009  NO_QUERY  _TheSpecialOne_   \n",
       "1     0  1467810672  Mon Apr 06 22:19:49 PDT 2009  NO_QUERY    scotthamilton   \n",
       "2     0  1467810917  Mon Apr 06 22:19:53 PDT 2009  NO_QUERY         mattycus   \n",
       "3     0  1467811184  Mon Apr 06 22:19:57 PDT 2009  NO_QUERY          ElleCTF   \n",
       "4     0  1467811193  Mon Apr 06 22:19:57 PDT 2009  NO_QUERY           Karoli   \n",
       "\n",
       "                                                text  \n",
       "0          awww bummer  shoulda david carr third day  \n",
       "1  upset cant update facebook texting  cry result...  \n",
       "2        dived times ball managed save   rest bounds  \n",
       "3                             body feels itchy fire   \n",
       "4                                 behaving mad cant   "
      ]
     },
     "execution_count": 89,
     "metadata": {},
     "output_type": "execute_result"
    }
   ],
   "source": [
    "#retrieve the original cleaned classfied tweets in a dataframe\n",
    "df_classified_cleaned.head()"
   ]
  },
  {
   "cell_type": "code",
   "execution_count": 90,
   "metadata": {
    "collapsed": true
   },
   "outputs": [],
   "source": [
    "#import Naive Bayes necessary packages\n",
    "from sklearn.feature_extraction.text import TfidfVectorizer\n",
    "from sklearn import naive_bayes"
   ]
  },
  {
   "cell_type": "code",
   "execution_count": 91,
   "metadata": {
    "collapsed": true
   },
   "outputs": [],
   "source": [
    "#initialize the vectorizer\n",
    "vectorizer = TfidfVectorizer()"
   ]
  },
  {
   "cell_type": "code",
   "execution_count": 92,
   "metadata": {
    "collapsed": true
   },
   "outputs": [],
   "source": [
    "#split the classfied tweets to 70% as training sets.\n",
    "#X are the features extracted from tweets, y are the targeting sentiment values\n",
    "X_train, X_test, y_train, y_test  = train_test_split(vectorizer.fit_transform (df_classified_cleaned.text), \n",
    "                                                     df_classified_cleaned['class'], \n",
    "                                                     train_size=0.70,\n",
    "                                                     random_state = 42)"
   ]
  },
  {
   "cell_type": "code",
   "execution_count": 93,
   "metadata": {},
   "outputs": [
    {
     "data": {
      "text/plain": [
       "MultinomialNB(alpha=1.0, class_prior=None, fit_prior=True)"
      ]
     },
     "execution_count": 93,
     "metadata": {},
     "output_type": "execute_result"
    }
   ],
   "source": [
    "#initialize naive bayes mutinomial classification\n",
    "naive_model = naive_bayes.MultinomialNB()\n",
    "#fit the model\n",
    "naive_model.fit(X_train, y_train)"
   ]
  },
  {
   "cell_type": "code",
   "execution_count": 94,
   "metadata": {
    "collapsed": true
   },
   "outputs": [],
   "source": [
    "#predict the results using the model and test set\n",
    "y_pred = naive_model.predict(X_test)"
   ]
  },
  {
   "cell_type": "code",
   "execution_count": 95,
   "metadata": {},
   "outputs": [
    {
     "name": "stdout",
     "output_type": "stream",
     "text": [
      "             precision    recall  f1-score   support\n",
      "\n",
      "          0       0.72      0.75      0.73     29851\n",
      "          4       0.74      0.71      0.72     30149\n",
      "\n",
      "avg / total       0.73      0.73      0.73     60000\n",
      "\n"
     ]
    }
   ],
   "source": [
    "#print precision report\n",
    "print(classification_report(y_test, y_pred))"
   ]
  },
  {
   "cell_type": "markdown",
   "metadata": {},
   "source": [
    "Comparing to logistic regression, precision for 0 is a little lower but precision for 4 is higher but the overall precision and recall rate are the same 73% for both logistic regression model and the naive bayes multinomial classification."
   ]
  },
  {
   "cell_type": "markdown",
   "metadata": {},
   "source": [
    "## Final Discussion"
   ]
  },
  {
   "cell_type": "markdown",
   "metadata": {},
   "source": [
    "The major political parties that people talke about on Twitter are Liberal, Conservative and NDP. Even though there were limitations on the key words I used to determine the possible political party that each Tweet may belong to, the results are still pretty good in terms of the rate of successfully identifying most of tweets. Moreover, a lot of those \"Others\" tweets may be totoally irrelevant to the elections meaning has nothing to do with any specific party. So I can safely ignore that categoty but only concentrate on the tweets that have been clearly identified to a specific political party. Among those, Liberal is the leading party that has the majoirity of people talking about followed by Conservative and then NDP.\n",
    "\n",
    "After evaluating the sentiment of each tweets, among those tweets that have potilical party identified, Liberal still has the most of posititve as well as negative responses and then followed by Conservative and NDP. \n",
    "\n",
    "250 positive tweets and 386 negative tweets for Liberal.\n",
    "\n",
    "246 positive tweets and 261 negative tweets for Conservative.\n",
    "\n",
    "190 positive tweets and 164 negative tweets for NDP.\n",
    "\n",
    "Both Liberal and Conservative have more negative tweets than positive tweets, while there were more positive tweets and nagative tweets. It seems people like to complain on those political parties a lot. Even thought positive tweets for NDP out numbers its negative tweets, if we only look at the number of posititve tweets for each party, Liberal still have the majority of postitive tweets so Liberal is more popular.\n",
    "\n",
    "Now looking back at the actual election results back in 2015 which Liberal party won and comparing to this sentiment analysis results from the tweets that were twitted back then, one can clearly see the sentiment results could have given a very good predicition in which Liberal Party would win the election. Though both my regreesion model and Naive Bayes model only have a precision of 73%, they still produced very good results overall."
   ]
  },
  {
   "cell_type": "code",
   "execution_count": null,
   "metadata": {
    "collapsed": true
   },
   "outputs": [],
   "source": []
  }
 ],
 "metadata": {
  "kernelspec": {
   "display_name": "Python 2",
   "language": "python",
   "name": "python2"
  },
  "language_info": {
   "codemirror_mode": {
    "name": "ipython",
    "version": 2
   },
   "file_extension": ".py",
   "mimetype": "text/x-python",
   "name": "python",
   "nbconvert_exporter": "python",
   "pygments_lexer": "ipython2",
   "version": "2.7.14"
  }
 },
 "nbformat": 4,
 "nbformat_minor": 2
}
