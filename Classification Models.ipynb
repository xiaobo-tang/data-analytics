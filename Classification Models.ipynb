{
 "cells": [
  {
   "cell_type": "markdown",
   "metadata": {},
   "source": [
    "# Classification"
   ]
  },
  {
   "cell_type": "markdown",
   "metadata": {},
   "source": [
    "#### NOTE: THE RUNTIME OF THIS SCRIPT IS AROUND 20 MINUTES"
   ]
  },
  {
   "cell_type": "code",
   "execution_count": 1,
   "metadata": {
    "collapsed": true
   },
   "outputs": [],
   "source": [
    "#import revelant modules\n",
    "import pandas as pd\n",
    "from pandas import DataFrame\n",
    "import re\n",
    "import numpy as np\n",
    "import matplotlib.pyplot as plt\n",
    "try:\n",
    "    import seaborn as sns\n",
    "except:\n",
    "    !pip install seaborn\n",
    "%matplotlib inline\n",
    "sns.set_style('whitegrid')"
   ]
  },
  {
   "cell_type": "code",
   "execution_count": 2,
   "metadata": {
    "collapsed": true
   },
   "outputs": [],
   "source": [
    "#read both training and testing data sets and put into dataframe objects\n",
    "training_data = pd.read_csv(\"income-training.csv\")\n",
    "test_data  = pd.read_csv(\"income-testing.csv\")"
   ]
  },
  {
   "cell_type": "markdown",
   "metadata": {},
   "source": [
    "#### New Feature \n",
    "Create a new feature called \"Negative_Investment\" based on the \"CapitalGain\" and \"CaptitalLoss\" values.\n",
    "eg. If the CapitalGain is less than CapitalLoss then assign 1, which is a reprensentation of negative invetment"
   ]
  },
  {
   "cell_type": "code",
   "execution_count": 3,
   "metadata": {
    "collapsed": true
   },
   "outputs": [],
   "source": [
    "#New feature is added to the end of orignal dataframe as a new column with 1 as yes and 0 as no\n",
    "training_data['Negative_Investment'] = np.where((training_data['CapitalGain'] < training_data['CapitalLoss']), 1, 0) \n",
    "test_data['Negative_Investment'] = np.where((test_data['CapitalGain'] < test_data['CapitalLoss']), 1, 0) "
   ]
  },
  {
   "cell_type": "code",
   "execution_count": 4,
   "metadata": {},
   "outputs": [
    {
     "name": "stdout",
     "output_type": "stream",
     "text": [
      "<class 'pandas.core.frame.DataFrame'>\n",
      "RangeIndex: 24421 entries, 0 to 24420\n",
      "Data columns (total 16 columns):\n",
      "Age                    24421 non-null int64\n",
      "WorkClass              23037 non-null object\n",
      "FinalWeight            24421 non-null int64\n",
      "Education              24421 non-null object\n",
      "EducationLvl           24421 non-null int64\n",
      "MaritalStatus          24421 non-null object\n",
      "Occupation             23031 non-null object\n",
      "Relationship           24421 non-null object\n",
      "Race                   24421 non-null object\n",
      "Sex                    24421 non-null object\n",
      "CapitalGain            24421 non-null int64\n",
      "CapitalLoss            24421 non-null int64\n",
      "HoursPerWeek           24421 non-null int64\n",
      "NativeCountry          24026 non-null object\n",
      "IncomeBracket          24421 non-null object\n",
      "Negative_Investment    24421 non-null int64\n",
      "dtypes: int64(7), object(9)\n",
      "memory usage: 3.0+ MB\n",
      "None\n",
      "\n",
      "=======================================\n",
      "\n",
      "<class 'pandas.core.frame.DataFrame'>\n",
      "RangeIndex: 12211 entries, 0 to 12210\n",
      "Data columns (total 16 columns):\n",
      "Age                    12211 non-null int64\n",
      "WorkClass              11523 non-null object\n",
      "FinalWeight            12211 non-null int64\n",
      "Education              12211 non-null object\n",
      "EducationLvl           12211 non-null int64\n",
      "MaritalStatus          12211 non-null object\n",
      "Occupation             11521 non-null object\n",
      "Relationship           12211 non-null object\n",
      "Race                   12211 non-null object\n",
      "Sex                    12211 non-null object\n",
      "CapitalGain            12211 non-null int64\n",
      "CapitalLoss            12211 non-null int64\n",
      "HoursPerWeek           12211 non-null int64\n",
      "NativeCountry          11986 non-null object\n",
      "IncomeBracket          12211 non-null object\n",
      "Negative_Investment    12211 non-null int64\n",
      "dtypes: int64(7), object(9)\n",
      "memory usage: 1.5+ MB\n",
      "None\n"
     ]
    }
   ],
   "source": [
    "#print both datasets information, so we can check how many line items we have and if any empty cells\n",
    "print(training_data.info())\n",
    "print(\"\\n=======================================\\n\")\n",
    "print(test_data.info())"
   ]
  },
  {
   "cell_type": "markdown",
   "metadata": {},
   "source": [
    "Only \"WorkClass\", \"Occupation\", \"NativeCountry\" have empty cells.\n",
    "Reasons behind these empty cells for Occupation and WorkClass maybe due to the fact that these people are currently\n",
    "unemployeded thus leaving these two columns blank, while the absent information of \"NativeCountry\" may be explained by the hesitations that some people have to disclose their Native Country for security reasons.\n",
    "\n",
    "#### High Level Summary\n",
    "training_data:\n",
    "\n",
    "               24421 rows in total;\n",
    "               1384 empty cells for WorkClass;\n",
    "               1390 empty cells for Occupation;\n",
    "               395 empty cells for NativeCountry;\n",
    "test_data:\n",
    "\n",
    "               12211 rows in total;\n",
    "               688 empty cells for WorkClass;\n",
    "               690 empty cells for Occupation;\n",
    "               225 empty cells for NativeCountry;\n",
    "As these are all categorical data, I will find out the mode for each and fill in the empty cells with the modes.\n",
    "The effect it can bring in is making the mode more significant eg, the feature key becomes more apparent or statistically significant. However, comparing to the totoal number of rows/datapoints we have, the number of missing values for each feature is insignificant so it may not produce a very pronounced drawback, but will help us better capture the most significant(mode) key thus helping to prepare the model."
   ]
  },
  {
   "cell_type": "code",
   "execution_count": 5,
   "metadata": {
    "collapsed": true
   },
   "outputs": [],
   "source": [
    "#define a clean function that will fill in empty cells and convert categorical data to numerical data\n",
    "def clean(df):\n",
    "    \n",
    "    #find out the mode for each feature\n",
    "    WorkClass_mode = df.WorkClass.mode().to_string(index=False)\n",
    "    Occupation_mode = df.Occupation.mode().to_string(index=False)\n",
    "    NativeCountry_mode = df.NativeCountry.mode().to_string(index=False)\n",
    "\n",
    "    #fill in the mode values to each empty cell for each feature\n",
    "    df.set_value(df.WorkClass.isnull(), 'WorkClass', WorkClass_mode)\n",
    "    df.set_value(df.Occupation.isnull(), 'Occupation', Occupation_mode)\n",
    "    df.set_value(df.NativeCountry.isnull(), 'NativeCountry', NativeCountry_mode)\n",
    "    \n",
    "    #drop unnecessary columns\n",
    "    df.drop(labels=['FinalWeight','Education','CapitalGain','CapitalLoss','HoursPerWeek'], axis=1, inplace=True)\n",
    "\n",
    "    #convert categorical data to numerical data using dummies\n",
    "    dummies_WorkClass = pd.get_dummies(df['WorkClass'],prefix='WorkClass')\n",
    "    dummies_MaritalStatus = pd.get_dummies(df['MaritalStatus'], prefix= 'MaritalStatus') \n",
    "    dummies_Occupation = pd.get_dummies(df['Occupation'], prefix= 'Occupation')\n",
    "    dummies_Relationship = pd.get_dummies(df['Relationship'], prefix= 'Relationship')\n",
    "    dummies_Race = pd.get_dummies(df['Race'], prefix= 'Race') \n",
    "    dummies_Sex = pd.get_dummies(df['Sex'], prefix= 'Sex')\n",
    "    dummies_NativeCountry = pd.get_dummies(df['NativeCountry'], prefix= 'NativeCountry')\n",
    "    #dummies_Negative_Investment = pd.get_dummies(df['Negative_Investment'], prefix= 'Negative_Investment')\n",
    "    \n",
    "    #add new dummy columns to the original dataframe\n",
    "    df = pd.concat([df, dummies_WorkClass, dummies_MaritalStatus, dummies_Occupation, dummies_Relationship, \\\n",
    "                    dummies_Race, dummies_Sex, dummies_NativeCountry], axis=1)\n",
    "    #drop orignal categorial data columns so we will be using those numerial dummies\n",
    "    df = df.drop(['WorkClass','MaritalStatus','Occupation', 'Relationship', 'Race', 'Sex', \\\n",
    "                  'NativeCountry'], axis=1)\n",
    "\n",
    "    return df"
   ]
  },
  {
   "cell_type": "markdown",
   "metadata": {},
   "source": [
    "#### Cleaning Strategy Motivations\n",
    "\n",
    "##### Missing Values\n",
    "As I previously exmaplined, I got rid of the missing values by replace them with the mode values and because the number is not as significant as the totoal number of data samples we have so the drawback will not be that pronounced. Yet it may make it easier for the model to extract the most signifcant feature key.\n",
    "\n",
    "##### Dropped Features and New Feature\n",
    "I dropped'FinalWeight'because it may not be obviously useful to my model, the'HoursPerWeek' may not be useful as it depends on some occupation so some occupation may only need to work for a few hours to make a lot of money while the others only pay a little even though work for a extended period of time. The'Education' is dropped because another column \"EducationLvl\" can represent the same information but with categorical data already. Finally, the 'CapitalGain' and 'CapitalLoss'are dropped and replaced with a new feature column \"Negative_Investment\" with numerical values"
   ]
  },
  {
   "cell_type": "code",
   "execution_count": 6,
   "metadata": {
    "scrolled": true
   },
   "outputs": [
    {
     "name": "stderr",
     "output_type": "stream",
     "text": [
      "/Applications/anaconda3/lib/python3.6/site-packages/ipykernel_launcher.py:10: FutureWarning: set_value is deprecated and will be removed in a future release. Please use .at[] or .iat[] accessors instead\n",
      "  # Remove the CWD from sys.path while we load stuff.\n",
      "/Applications/anaconda3/lib/python3.6/site-packages/ipykernel_launcher.py:11: FutureWarning: set_value is deprecated and will be removed in a future release. Please use .at[] or .iat[] accessors instead\n",
      "  # This is added back by InteractiveShellApp.init_path()\n",
      "/Applications/anaconda3/lib/python3.6/site-packages/ipykernel_launcher.py:12: FutureWarning: set_value is deprecated and will be removed in a future release. Please use .at[] or .iat[] accessors instead\n",
      "  if sys.path[0] == '':\n"
     ]
    }
   ],
   "source": [
    "#run the clean function to both training and testing data sets\n",
    "training_data = clean(training_data)\n",
    "test_data = clean(test_data)"
   ]
  },
  {
   "cell_type": "markdown",
   "metadata": {},
   "source": [
    "#### Note: I did not convert IncomeBracket to numerical data, because it is our target variable, the model does not need it to build the model so it will be handled separately later. It can be done, however, just not necessary."
   ]
  },
  {
   "cell_type": "code",
   "execution_count": 7,
   "metadata": {},
   "outputs": [
    {
     "data": {
      "text/html": [
       "<div>\n",
       "<style scoped>\n",
       "    .dataframe tbody tr th:only-of-type {\n",
       "        vertical-align: middle;\n",
       "    }\n",
       "\n",
       "    .dataframe tbody tr th {\n",
       "        vertical-align: top;\n",
       "    }\n",
       "\n",
       "    .dataframe thead th {\n",
       "        text-align: right;\n",
       "    }\n",
       "</style>\n",
       "<table border=\"1\" class=\"dataframe\">\n",
       "  <thead>\n",
       "    <tr style=\"text-align: right;\">\n",
       "      <th></th>\n",
       "      <th>Age</th>\n",
       "      <th>EducationLvl</th>\n",
       "      <th>IncomeBracket</th>\n",
       "      <th>Negative_Investment</th>\n",
       "      <th>WorkClass_Federal-gov</th>\n",
       "      <th>WorkClass_Local-gov</th>\n",
       "      <th>WorkClass_Never-worked</th>\n",
       "      <th>WorkClass_Private</th>\n",
       "      <th>WorkClass_Self-emp-inc</th>\n",
       "      <th>WorkClass_Self-emp-not-inc</th>\n",
       "      <th>...</th>\n",
       "      <th>NativeCountry_Portugal</th>\n",
       "      <th>NativeCountry_Puerto-Rico</th>\n",
       "      <th>NativeCountry_Scotland</th>\n",
       "      <th>NativeCountry_South</th>\n",
       "      <th>NativeCountry_Taiwan</th>\n",
       "      <th>NativeCountry_Thailand</th>\n",
       "      <th>NativeCountry_Trinadad&amp;Tobago</th>\n",
       "      <th>NativeCountry_United-States</th>\n",
       "      <th>NativeCountry_Vietnam</th>\n",
       "      <th>NativeCountry_Yugoslavia</th>\n",
       "    </tr>\n",
       "  </thead>\n",
       "  <tbody>\n",
       "    <tr>\n",
       "      <th>0</th>\n",
       "      <td>42</td>\n",
       "      <td>10</td>\n",
       "      <td>&lt;50K</td>\n",
       "      <td>0</td>\n",
       "      <td>0</td>\n",
       "      <td>0</td>\n",
       "      <td>0</td>\n",
       "      <td>0</td>\n",
       "      <td>0</td>\n",
       "      <td>0</td>\n",
       "      <td>...</td>\n",
       "      <td>0</td>\n",
       "      <td>0</td>\n",
       "      <td>0</td>\n",
       "      <td>0</td>\n",
       "      <td>0</td>\n",
       "      <td>0</td>\n",
       "      <td>0</td>\n",
       "      <td>1</td>\n",
       "      <td>0</td>\n",
       "      <td>0</td>\n",
       "    </tr>\n",
       "    <tr>\n",
       "      <th>1</th>\n",
       "      <td>28</td>\n",
       "      <td>10</td>\n",
       "      <td>&lt;50K</td>\n",
       "      <td>0</td>\n",
       "      <td>0</td>\n",
       "      <td>0</td>\n",
       "      <td>0</td>\n",
       "      <td>1</td>\n",
       "      <td>0</td>\n",
       "      <td>0</td>\n",
       "      <td>...</td>\n",
       "      <td>0</td>\n",
       "      <td>0</td>\n",
       "      <td>0</td>\n",
       "      <td>0</td>\n",
       "      <td>0</td>\n",
       "      <td>0</td>\n",
       "      <td>0</td>\n",
       "      <td>1</td>\n",
       "      <td>0</td>\n",
       "      <td>0</td>\n",
       "    </tr>\n",
       "    <tr>\n",
       "      <th>2</th>\n",
       "      <td>24</td>\n",
       "      <td>10</td>\n",
       "      <td>50-100K</td>\n",
       "      <td>0</td>\n",
       "      <td>0</td>\n",
       "      <td>0</td>\n",
       "      <td>0</td>\n",
       "      <td>1</td>\n",
       "      <td>0</td>\n",
       "      <td>0</td>\n",
       "      <td>...</td>\n",
       "      <td>0</td>\n",
       "      <td>0</td>\n",
       "      <td>0</td>\n",
       "      <td>0</td>\n",
       "      <td>0</td>\n",
       "      <td>0</td>\n",
       "      <td>0</td>\n",
       "      <td>1</td>\n",
       "      <td>0</td>\n",
       "      <td>0</td>\n",
       "    </tr>\n",
       "    <tr>\n",
       "      <th>3</th>\n",
       "      <td>32</td>\n",
       "      <td>5</td>\n",
       "      <td>&lt;50K</td>\n",
       "      <td>0</td>\n",
       "      <td>0</td>\n",
       "      <td>0</td>\n",
       "      <td>0</td>\n",
       "      <td>0</td>\n",
       "      <td>0</td>\n",
       "      <td>1</td>\n",
       "      <td>...</td>\n",
       "      <td>0</td>\n",
       "      <td>0</td>\n",
       "      <td>0</td>\n",
       "      <td>0</td>\n",
       "      <td>0</td>\n",
       "      <td>0</td>\n",
       "      <td>0</td>\n",
       "      <td>1</td>\n",
       "      <td>0</td>\n",
       "      <td>0</td>\n",
       "    </tr>\n",
       "    <tr>\n",
       "      <th>4</th>\n",
       "      <td>55</td>\n",
       "      <td>14</td>\n",
       "      <td>&lt;50K</td>\n",
       "      <td>0</td>\n",
       "      <td>0</td>\n",
       "      <td>0</td>\n",
       "      <td>0</td>\n",
       "      <td>0</td>\n",
       "      <td>0</td>\n",
       "      <td>1</td>\n",
       "      <td>...</td>\n",
       "      <td>0</td>\n",
       "      <td>0</td>\n",
       "      <td>0</td>\n",
       "      <td>0</td>\n",
       "      <td>0</td>\n",
       "      <td>0</td>\n",
       "      <td>0</td>\n",
       "      <td>1</td>\n",
       "      <td>0</td>\n",
       "      <td>0</td>\n",
       "    </tr>\n",
       "  </tbody>\n",
       "</table>\n",
       "<p>5 rows × 87 columns</p>\n",
       "</div>"
      ],
      "text/plain": [
       "   Age  EducationLvl IncomeBracket  Negative_Investment  \\\n",
       "0   42            10          <50K                    0   \n",
       "1   28            10          <50K                    0   \n",
       "2   24            10       50-100K                    0   \n",
       "3   32             5          <50K                    0   \n",
       "4   55            14          <50K                    0   \n",
       "\n",
       "   WorkClass_Federal-gov  WorkClass_Local-gov  WorkClass_Never-worked  \\\n",
       "0                      0                    0                       0   \n",
       "1                      0                    0                       0   \n",
       "2                      0                    0                       0   \n",
       "3                      0                    0                       0   \n",
       "4                      0                    0                       0   \n",
       "\n",
       "   WorkClass_Private  WorkClass_Self-emp-inc  WorkClass_Self-emp-not-inc  \\\n",
       "0                  0                       0                           0   \n",
       "1                  1                       0                           0   \n",
       "2                  1                       0                           0   \n",
       "3                  0                       0                           1   \n",
       "4                  0                       0                           1   \n",
       "\n",
       "             ...             NativeCountry_Portugal  \\\n",
       "0            ...                                  0   \n",
       "1            ...                                  0   \n",
       "2            ...                                  0   \n",
       "3            ...                                  0   \n",
       "4            ...                                  0   \n",
       "\n",
       "   NativeCountry_Puerto-Rico  NativeCountry_Scotland  NativeCountry_South  \\\n",
       "0                          0                       0                    0   \n",
       "1                          0                       0                    0   \n",
       "2                          0                       0                    0   \n",
       "3                          0                       0                    0   \n",
       "4                          0                       0                    0   \n",
       "\n",
       "   NativeCountry_Taiwan  NativeCountry_Thailand  \\\n",
       "0                     0                       0   \n",
       "1                     0                       0   \n",
       "2                     0                       0   \n",
       "3                     0                       0   \n",
       "4                     0                       0   \n",
       "\n",
       "   NativeCountry_Trinadad&Tobago  NativeCountry_United-States  \\\n",
       "0                              0                            1   \n",
       "1                              0                            1   \n",
       "2                              0                            1   \n",
       "3                              0                            1   \n",
       "4                              0                            1   \n",
       "\n",
       "   NativeCountry_Vietnam  NativeCountry_Yugoslavia  \n",
       "0                      0                         0  \n",
       "1                      0                         0  \n",
       "2                      0                         0  \n",
       "3                      0                         0  \n",
       "4                      0                         0  \n",
       "\n",
       "[5 rows x 87 columns]"
      ]
     },
     "execution_count": 7,
     "metadata": {},
     "output_type": "execute_result"
    }
   ],
   "source": [
    "#show the first 5 rows of training set\n",
    "training_data.head()"
   ]
  },
  {
   "cell_type": "code",
   "execution_count": 8,
   "metadata": {
    "scrolled": true
   },
   "outputs": [
    {
     "data": {
      "text/html": [
       "<div>\n",
       "<style scoped>\n",
       "    .dataframe tbody tr th:only-of-type {\n",
       "        vertical-align: middle;\n",
       "    }\n",
       "\n",
       "    .dataframe tbody tr th {\n",
       "        vertical-align: top;\n",
       "    }\n",
       "\n",
       "    .dataframe thead th {\n",
       "        text-align: right;\n",
       "    }\n",
       "</style>\n",
       "<table border=\"1\" class=\"dataframe\">\n",
       "  <thead>\n",
       "    <tr style=\"text-align: right;\">\n",
       "      <th></th>\n",
       "      <th>Age</th>\n",
       "      <th>EducationLvl</th>\n",
       "      <th>IncomeBracket</th>\n",
       "      <th>Negative_Investment</th>\n",
       "      <th>WorkClass_Federal-gov</th>\n",
       "      <th>WorkClass_Local-gov</th>\n",
       "      <th>WorkClass_Never-worked</th>\n",
       "      <th>WorkClass_Private</th>\n",
       "      <th>WorkClass_Self-emp-inc</th>\n",
       "      <th>WorkClass_Self-emp-not-inc</th>\n",
       "      <th>...</th>\n",
       "      <th>NativeCountry_Portugal</th>\n",
       "      <th>NativeCountry_Puerto-Rico</th>\n",
       "      <th>NativeCountry_Scotland</th>\n",
       "      <th>NativeCountry_South</th>\n",
       "      <th>NativeCountry_Taiwan</th>\n",
       "      <th>NativeCountry_Thailand</th>\n",
       "      <th>NativeCountry_Trinadad&amp;Tobago</th>\n",
       "      <th>NativeCountry_United-States</th>\n",
       "      <th>NativeCountry_Vietnam</th>\n",
       "      <th>NativeCountry_Yugoslavia</th>\n",
       "    </tr>\n",
       "  </thead>\n",
       "  <tbody>\n",
       "    <tr>\n",
       "      <th>0</th>\n",
       "      <td>57</td>\n",
       "      <td>10</td>\n",
       "      <td>50-100K</td>\n",
       "      <td>0</td>\n",
       "      <td>0</td>\n",
       "      <td>0</td>\n",
       "      <td>0</td>\n",
       "      <td>0</td>\n",
       "      <td>0</td>\n",
       "      <td>1</td>\n",
       "      <td>...</td>\n",
       "      <td>0</td>\n",
       "      <td>0</td>\n",
       "      <td>0</td>\n",
       "      <td>0</td>\n",
       "      <td>0</td>\n",
       "      <td>0</td>\n",
       "      <td>0</td>\n",
       "      <td>1</td>\n",
       "      <td>0</td>\n",
       "      <td>0</td>\n",
       "    </tr>\n",
       "    <tr>\n",
       "      <th>1</th>\n",
       "      <td>35</td>\n",
       "      <td>13</td>\n",
       "      <td>&lt;50K</td>\n",
       "      <td>0</td>\n",
       "      <td>0</td>\n",
       "      <td>0</td>\n",
       "      <td>0</td>\n",
       "      <td>1</td>\n",
       "      <td>0</td>\n",
       "      <td>0</td>\n",
       "      <td>...</td>\n",
       "      <td>0</td>\n",
       "      <td>0</td>\n",
       "      <td>0</td>\n",
       "      <td>0</td>\n",
       "      <td>0</td>\n",
       "      <td>0</td>\n",
       "      <td>0</td>\n",
       "      <td>1</td>\n",
       "      <td>0</td>\n",
       "      <td>0</td>\n",
       "    </tr>\n",
       "    <tr>\n",
       "      <th>2</th>\n",
       "      <td>26</td>\n",
       "      <td>13</td>\n",
       "      <td>&lt;50K</td>\n",
       "      <td>0</td>\n",
       "      <td>0</td>\n",
       "      <td>0</td>\n",
       "      <td>0</td>\n",
       "      <td>1</td>\n",
       "      <td>0</td>\n",
       "      <td>0</td>\n",
       "      <td>...</td>\n",
       "      <td>0</td>\n",
       "      <td>0</td>\n",
       "      <td>0</td>\n",
       "      <td>0</td>\n",
       "      <td>0</td>\n",
       "      <td>0</td>\n",
       "      <td>0</td>\n",
       "      <td>1</td>\n",
       "      <td>0</td>\n",
       "      <td>0</td>\n",
       "    </tr>\n",
       "    <tr>\n",
       "      <th>3</th>\n",
       "      <td>27</td>\n",
       "      <td>13</td>\n",
       "      <td>&lt;50K</td>\n",
       "      <td>0</td>\n",
       "      <td>1</td>\n",
       "      <td>0</td>\n",
       "      <td>0</td>\n",
       "      <td>0</td>\n",
       "      <td>0</td>\n",
       "      <td>0</td>\n",
       "      <td>...</td>\n",
       "      <td>0</td>\n",
       "      <td>0</td>\n",
       "      <td>0</td>\n",
       "      <td>0</td>\n",
       "      <td>0</td>\n",
       "      <td>0</td>\n",
       "      <td>0</td>\n",
       "      <td>1</td>\n",
       "      <td>0</td>\n",
       "      <td>0</td>\n",
       "    </tr>\n",
       "    <tr>\n",
       "      <th>4</th>\n",
       "      <td>21</td>\n",
       "      <td>9</td>\n",
       "      <td>&lt;50K</td>\n",
       "      <td>0</td>\n",
       "      <td>0</td>\n",
       "      <td>0</td>\n",
       "      <td>0</td>\n",
       "      <td>1</td>\n",
       "      <td>0</td>\n",
       "      <td>0</td>\n",
       "      <td>...</td>\n",
       "      <td>0</td>\n",
       "      <td>0</td>\n",
       "      <td>0</td>\n",
       "      <td>0</td>\n",
       "      <td>0</td>\n",
       "      <td>0</td>\n",
       "      <td>0</td>\n",
       "      <td>0</td>\n",
       "      <td>0</td>\n",
       "      <td>0</td>\n",
       "    </tr>\n",
       "  </tbody>\n",
       "</table>\n",
       "<p>5 rows × 86 columns</p>\n",
       "</div>"
      ],
      "text/plain": [
       "   Age  EducationLvl IncomeBracket  Negative_Investment  \\\n",
       "0   57            10       50-100K                    0   \n",
       "1   35            13          <50K                    0   \n",
       "2   26            13          <50K                    0   \n",
       "3   27            13          <50K                    0   \n",
       "4   21             9          <50K                    0   \n",
       "\n",
       "   WorkClass_Federal-gov  WorkClass_Local-gov  WorkClass_Never-worked  \\\n",
       "0                      0                    0                       0   \n",
       "1                      0                    0                       0   \n",
       "2                      0                    0                       0   \n",
       "3                      1                    0                       0   \n",
       "4                      0                    0                       0   \n",
       "\n",
       "   WorkClass_Private  WorkClass_Self-emp-inc  WorkClass_Self-emp-not-inc  \\\n",
       "0                  0                       0                           1   \n",
       "1                  1                       0                           0   \n",
       "2                  1                       0                           0   \n",
       "3                  0                       0                           0   \n",
       "4                  1                       0                           0   \n",
       "\n",
       "             ...             NativeCountry_Portugal  \\\n",
       "0            ...                                  0   \n",
       "1            ...                                  0   \n",
       "2            ...                                  0   \n",
       "3            ...                                  0   \n",
       "4            ...                                  0   \n",
       "\n",
       "   NativeCountry_Puerto-Rico  NativeCountry_Scotland  NativeCountry_South  \\\n",
       "0                          0                       0                    0   \n",
       "1                          0                       0                    0   \n",
       "2                          0                       0                    0   \n",
       "3                          0                       0                    0   \n",
       "4                          0                       0                    0   \n",
       "\n",
       "   NativeCountry_Taiwan  NativeCountry_Thailand  \\\n",
       "0                     0                       0   \n",
       "1                     0                       0   \n",
       "2                     0                       0   \n",
       "3                     0                       0   \n",
       "4                     0                       0   \n",
       "\n",
       "   NativeCountry_Trinadad&Tobago  NativeCountry_United-States  \\\n",
       "0                              0                            1   \n",
       "1                              0                            1   \n",
       "2                              0                            1   \n",
       "3                              0                            1   \n",
       "4                              0                            0   \n",
       "\n",
       "   NativeCountry_Vietnam  NativeCountry_Yugoslavia  \n",
       "0                      0                         0  \n",
       "1                      0                         0  \n",
       "2                      0                         0  \n",
       "3                      0                         0  \n",
       "4                      0                         0  \n",
       "\n",
       "[5 rows x 86 columns]"
      ]
     },
     "execution_count": 8,
     "metadata": {},
     "output_type": "execute_result"
    }
   ],
   "source": [
    "#show the first 5 rows of testing set\n",
    "test_data.head()"
   ]
  },
  {
   "cell_type": "code",
   "execution_count": 9,
   "metadata": {},
   "outputs": [
    {
     "name": "stderr",
     "output_type": "stream",
     "text": [
      "/Applications/anaconda3/lib/python3.6/site-packages/seaborn/categorical.py:1460: FutureWarning: remove_na is deprecated and is a private function. Do not use.\n",
      "  stat_data = remove_na(group_data)\n",
      "/Applications/anaconda3/lib/python3.6/site-packages/seaborn/categorical.py:1508: FutureWarning: remove_na is deprecated and is a private function. Do not use.\n",
      "  stat_data = remove_na(group_data[hue_mask])\n"
     ]
    },
    {
     "data": {
      "text/plain": [
       "<matplotlib.axes._subplots.AxesSubplot at 0x10c8693c8>"
      ]
     },
     "execution_count": 9,
     "metadata": {},
     "output_type": "execute_result"
    },
    {
     "data": {
      "image/png": "[encoded data removed]",
      "text/plain": [
       "<matplotlib.figure.Figure at 0x113e55048>"
      ]
     },
     "metadata": {},
     "output_type": "display_data"
    }
   ],
   "source": [
    "#setup the plot and plot 3 graphs from the training data set\n",
    "fig, (axis1,axis2,axis3) = plt.subplots(3,1,figsize=(15,20))\n",
    "\n",
    "sns.countplot(x='IncomeBracket', data=training_data, ax=axis1)\n",
    "sns.countplot(x='IncomeBracket', hue=\"Sex_Male\", data=training_data, ax=axis2)\n",
    "sns.countplot(x='IncomeBracket', hue=\"EducationLvl\", data=training_data, ax=axis3)"
   ]
  },
  {
   "cell_type": "markdown",
   "metadata": {},
   "source": [
    "#### Graph Discussion\n",
    "Graph1: the plot shows the general demographical distribution of people's income, from the graph it shows that the majority of people are in the < 50K IncomeBracket range, this will help us understand the trend and develop an expectation of the data analysis that most people should fall into this category.\n",
    "\n",
    "Graph2: this plot invesitigate the gender distribution among all three incomebrackets, across all IncomeBracket range, there is always more male than female, this plotentially may reveal and that there are more male in the workplace than female and both male and female have more people making less than 50K.\n",
    "\n",
    "Graph3: the plot shows the occupation distribution among all three icomebrackets, we can see both highly eduacated and less educated people making < 50K but to be able to make > 100K, one most likely is highly educated. The information gathered here gave us before-hand expections of the outcomes of the data classification, that highly eduacated people with advanced occupation are likely to make a lot more money."
   ]
  },
  {
   "cell_type": "markdown",
   "metadata": {},
   "source": [
    "#### Principal components analysis (PCA) to visualize feature improtance"
   ]
  },
  {
   "cell_type": "code",
   "execution_count": 10,
   "metadata": {
    "collapsed": true
   },
   "outputs": [],
   "source": [
    "#Seperate the target varaible - \"IncomeBracket\" column from the orignal dataframe\n",
    "#Put them into feature objects and target object to prepare for subsequent analysis\n",
    "training_data_features=training_data.drop(['IncomeBracket'], axis=1).values\n",
    "training_data_targets=training_data.IncomeBracket.values"
   ]
  },
  {
   "cell_type": "code",
   "execution_count": 11,
   "metadata": {
    "collapsed": true
   },
   "outputs": [],
   "source": [
    "#import revelant modules\n",
    "from sklearn.decomposition import PCA\n",
    "from sklearn.preprocessing import StandardScaler"
   ]
  },
  {
   "cell_type": "code",
   "execution_count": 12,
   "metadata": {},
   "outputs": [
    {
     "name": "stderr",
     "output_type": "stream",
     "text": [
      "/Applications/anaconda3/lib/python3.6/site-packages/sklearn/utils/validation.py:475: DataConversionWarning: Data with input dtype int64 was converted to float64 by StandardScaler.\n",
      "  warnings.warn(msg, DataConversionWarning)\n"
     ]
    }
   ],
   "source": [
    "#since some features are measured in different scales, I normalized them first\n",
    "training_data_features_std = StandardScaler().fit_transform(training_data_features)"
   ]
  },
  {
   "cell_type": "code",
   "execution_count": 13,
   "metadata": {
    "collapsed": true
   },
   "outputs": [],
   "source": [
    "#find the covariance matrix, eigenvalue/eigenvectors of the features\n",
    "cov_mat = np.cov(training_data_features_std.T)\n",
    "eig_vals, eig_vecs = np.linalg.eig(cov_mat)"
   ]
  },
  {
   "cell_type": "code",
   "execution_count": 14,
   "metadata": {
    "collapsed": true
   },
   "outputs": [],
   "source": [
    "#rank each eigen values and get each individual explained varaince\n",
    "tot = sum(eig_vals)\n",
    "var_exp = [round((i / tot)*100, 3) for i in sorted(eig_vals, reverse=True)]\n",
    "#compute an accumlated explained variance\n",
    "cum_var_exp = np.cumsum(var_exp)"
   ]
  },
  {
   "cell_type": "code",
   "execution_count": 15,
   "metadata": {
    "scrolled": true
   },
   "outputs": [
    {
     "data": {
      "image/png": "[encoded data removed]",
      "text/plain": [
       "<matplotlib.figure.Figure at 0x121610198>"
      ]
     },
     "metadata": {},
     "output_type": "display_data"
    }
   ],
   "source": [
    "#plot the individual explained varaince and accumlated explained variance\n",
    "with plt.style.context('seaborn-whitegrid'):\n",
    "    plt.figure(figsize=(15, 8))\n",
    "\n",
    "    plt.bar(range(86), var_exp, alpha=0.5, align='center',\n",
    "            label='individual explained variance')\n",
    "    plt.step(range(86), cum_var_exp, where='mid',\n",
    "             label='cumulative explained variance')\n",
    "    \n",
    "    plt.ylabel('Explained variance ratio')\n",
    "    plt.xlabel('Principal components')\n",
    "    plt.legend(loc='best')\n",
    "    plt.tight_layout()"
   ]
  },
  {
   "cell_type": "markdown",
   "metadata": {},
   "source": [
    "#### Feature Importance Explanation and Selection Justifications\n",
    "#Depends on the goal of how much explained covariance you want to get, we can pick how many principal components we want to use. In this case, the first 5 principal components may explain about 20% which is bad, however, to get 80% of explained covariance, we need to have around 55 principal compoents which is not a whole lot improvment from the original total of 86  features that would gave us 100% explained covaraince. As a general rule of thumb, I will use 55 principal components to achieve a 80% explained covariance. From the individual explained varaince values, it can be concluded that Age and EducationLv are most related to an individual's incomebracket."
   ]
  },
  {
   "cell_type": "code",
   "execution_count": 16,
   "metadata": {},
   "outputs": [
    {
     "name": "stdout",
     "output_type": "stream",
     "text": [
      "Explained variation per principal component: [ 0.05008886  0.02976867  0.02912312  0.02354502  0.02105475  0.02026472\n",
      "  0.01856753  0.01639417  0.01540354  0.0144346   0.01434858  0.01419317\n",
      "  0.01351854  0.01339128  0.01323561  0.01309324  0.01288784  0.01275413\n",
      "  0.01264791  0.0125775   0.01246727  0.01231747  0.0121576   0.01213756\n",
      "  0.01207933  0.01196086  0.01187757  0.01182707  0.01173664  0.01171752\n",
      "  0.01169825  0.01166398  0.01165473  0.01164988  0.01164651  0.01164293\n",
      "  0.01164168  0.01163686  0.01163004  0.0116254   0.01161141  0.01160235\n",
      "  0.01159062  0.0115866   0.01156339  0.01155205  0.01151368  0.01147721\n",
      "  0.01143415  0.01140399  0.01137909  0.01133023  0.01127789  0.0112136\n",
      "  0.01116254]\n"
     ]
    }
   ],
   "source": [
    "#pick the number of principle components to be used as 55\n",
    "#fit and transform PCA and print out the explained varaince ratios\n",
    "pca = PCA(n_components=55)\n",
    "traning_data_pca = pca.fit_transform(training_data_features_std)\n",
    "print ('Explained variation per principal component: {}'.format(pca.explained_variance_ratio_))"
   ]
  },
  {
   "cell_type": "markdown",
   "metadata": {},
   "source": [
    "#### Feature Selection Discussion\n",
    "Up to this point, I have cleaned the data(fill missing values and convert categorical data to numerical values), dropped unnecessary features, added a new feature based on other features and selected important fetures to be used for subsequent analysis. Feature engineering is useful as better features means better results from the model, also it simplify the model and thus reducing processing time and yields better flexibility. "
   ]
  },
  {
   "cell_type": "markdown",
   "metadata": {
    "collapsed": true
   },
   "source": [
    "#### Model Implementation"
   ]
  },
  {
   "cell_type": "code",
   "execution_count": 17,
   "metadata": {},
   "outputs": [
    {
     "name": "stderr",
     "output_type": "stream",
     "text": [
      "/Applications/anaconda3/lib/python3.6/site-packages/sklearn/cross_validation.py:41: DeprecationWarning: This module was deprecated in version 0.18 in favor of the model_selection module into which all the refactored classes and functions are moved. Also note that the interface of the new CV iterators are different from that of this module. This module will be removed in 0.20.\n",
      "  \"This module will be removed in 0.20.\", DeprecationWarning)\n"
     ]
    }
   ],
   "source": [
    "#import machine learning modules\n",
    "from sklearn.linear_model import LogisticRegression\n",
    "from sklearn.metrics import make_scorer, accuracy_score\n",
    "from sklearn.ensemble import RandomForestClassifier\n",
    "from sklearn.cross_validation import KFold\n",
    "try:\n",
    "    from sklearn.model_selection import train_test_split\n",
    "except:\n",
    "    from sklearn.cross_validation import train_test_split\n",
    "try:\n",
    "    from sklearn.model_selection import GridSearchCV\n",
    "except:\n",
    "    from sklearn.grid_search import GridSearchCV\n",
    "try:\n",
    "    from sklearn.model_selection import learning_curve\n",
    "except:\n",
    "    from sklearn.learning_curve import learning_curve"
   ]
  },
  {
   "cell_type": "code",
   "execution_count": 18,
   "metadata": {
    "collapsed": true
   },
   "outputs": [],
   "source": [
    "#X is the features selected using PCA with 55 principal components\n",
    "#y is the target varaible - incomebracket\n",
    "X = traning_data_pca\n",
    "y = training_data_targets"
   ]
  },
  {
   "cell_type": "code",
   "execution_count": 19,
   "metadata": {
    "collapsed": true
   },
   "outputs": [],
   "source": [
    "#split into training and test sets\n",
    "X_train, X_test, y_train, y_test = train_test_split(X, y, random_state=42, test_size = 0.3)"
   ]
  },
  {
   "cell_type": "code",
   "execution_count": 20,
   "metadata": {
    "collapsed": true
   },
   "outputs": [],
   "source": [
    "#define a 10 kfold function\n",
    "def run_kfold(clf):\n",
    "    \n",
    "    #run KFold with 10 folds instead of the default 3\n",
    "    #on the 24421 records in the training_data\n",
    "    kf = KFold(24421, n_folds=10)\n",
    "    \n",
    "    outcomes = []\n",
    "    fold = 0\n",
    "    \n",
    "    for train_index, test_index in kf:\n",
    "        fold += 1\n",
    "        X_train, X_test = X[train_index], X[test_index]\n",
    "        y_train, y_test = y[train_index], y[test_index]\n",
    "        \n",
    "        clf.fit(X_train, y_train)\n",
    "        predictions = clf.predict(X_test)\n",
    "        \n",
    "        #using accurancy score\n",
    "        accuracy = accuracy_score(y_test, predictions)\n",
    "        outcomes.append(accuracy)\n",
    "        print(\"Fold {0} accuracy: {1}\".format(fold, accuracy))   \n",
    "    \n",
    "    #compute an average accurancy score of the 10 results\n",
    "    mean_outcome = np.mean(outcomes)\n",
    "    print(\"Mean Accuracy: {0}\".format(mean_outcome)) "
   ]
  },
  {
   "cell_type": "markdown",
   "metadata": {},
   "source": [
    "#### Model 1 - Random Forest Classifier\n",
    "Model tunning included using Grid_Search to try out differnt parameter combinations\n",
    "and find out the best set of paramaters and use it for the final model"
   ]
  },
  {
   "cell_type": "code",
   "execution_count": 21,
   "metadata": {},
   "outputs": [
    {
     "data": {
      "text/plain": [
       "RandomForestClassifier(bootstrap=True, class_weight=None, criterion='entropy',\n",
       "            max_depth=10, max_features='auto', max_leaf_nodes=None,\n",
       "            min_impurity_decrease=0.0, min_impurity_split=None,\n",
       "            min_samples_leaf=8, min_samples_split=5,\n",
       "            min_weight_fraction_leaf=0.0, n_estimators=9, n_jobs=1,\n",
       "            oob_score=False, random_state=None, verbose=0,\n",
       "            warm_start=False)"
      ]
     },
     "execution_count": 21,
     "metadata": {},
     "output_type": "execute_result"
    }
   ],
   "source": [
    "# Choose the type of classifier. \n",
    "rdc = RandomForestClassifier()\n",
    "\n",
    "# Choose some parameter combinations to try\n",
    "parameters = {'n_estimators': [4, 6, 9], \n",
    "              'max_features': ['log2', 'sqrt','auto'], \n",
    "              'criterion': ['entropy', 'gini'],\n",
    "              'max_depth': [2, 3, 5, 10], \n",
    "              'min_samples_split': [2, 3, 5],\n",
    "              'min_samples_leaf': [1,5,8]\n",
    "             }\n",
    "\n",
    "# Use accuracy_score for comparing different parameter combinations. \n",
    "acc_scorer_rdc = make_scorer(accuracy_score)\n",
    "\n",
    "# Run the grid search for the Random Forest classifier\n",
    "grid_obj_rdc = GridSearchCV(rdc, parameters, scoring=acc_scorer_rdc)\n",
    "grid_obj_rdc = grid_obj_rdc.fit(X_train, y_train)\n",
    "\n",
    "# Set our classifier, rdc, to the have the best combination of parameters\n",
    "rdc = grid_obj_rdc.best_estimator_\n",
    "\n",
    "# Fit the selected classifier to the training data\n",
    "rdc.fit(X_train, y_train)"
   ]
  },
  {
   "cell_type": "code",
   "execution_count": 22,
   "metadata": {},
   "outputs": [
    {
     "name": "stdout",
     "output_type": "stream",
     "text": [
      "0.782994404258\n"
     ]
    }
   ],
   "source": [
    "#predict the results for X_test and print out the accuracy score\n",
    "predictions_rdc = rdc.predict(X_test)\n",
    "print(accuracy_score(y_test, predictions_rdc))"
   ]
  },
  {
   "cell_type": "code",
   "execution_count": 23,
   "metadata": {},
   "outputs": [
    {
     "name": "stdout",
     "output_type": "stream",
     "text": [
      "Fold 1 accuracy: 0.7830536225951699\n",
      "Fold 2 accuracy: 0.7858312858312858\n",
      "Fold 3 accuracy: 0.7800982800982801\n",
      "Fold 4 accuracy: 0.8001638001638002\n",
      "Fold 5 accuracy: 0.7952497952497952\n",
      "Fold 6 accuracy: 0.7895167895167895\n",
      "Fold 7 accuracy: 0.7858312858312858\n",
      "Fold 8 accuracy: 0.7866502866502867\n",
      "Fold 9 accuracy: 0.7895167895167895\n",
      "Fold 10 accuracy: 0.7731367731367731\n",
      "Mean Accuracy: 0.7869048708590256\n"
     ]
    }
   ],
   "source": [
    "#run a seprated kfold with the model at its best estimator\n",
    "run_kfold(rdc)"
   ]
  },
  {
   "cell_type": "markdown",
   "metadata": {},
   "source": [
    "#### Random Forest Classifier Discussion\n",
    "K-fold shows little variaitions accoress the folds so the accruacy is stable around the mean at 78%\n",
    "Random forest classifier creates a set of decision trees from randomly selected subset of training set. It then aggregates the votes from different decision trees to decide the final class of the test object. Pros: reduced variance (relative to regular trees) Cons: not as easy to visually interpret. I chose this one to compare against other classifier and it is easy to implememnt and useful."
   ]
  },
  {
   "cell_type": "markdown",
   "metadata": {},
   "source": [
    "#### Model 2 - Logistic Regression\n",
    "Model tunning included using Grid_Search to try out differnt parameter combinations\n",
    "and find out the best set of paramaters and use it for the final model"
   ]
  },
  {
   "cell_type": "code",
   "execution_count": 24,
   "metadata": {},
   "outputs": [
    {
     "data": {
      "text/plain": [
       "LogisticRegression(C=0.5, class_weight=None, dual=False, fit_intercept=True,\n",
       "          intercept_scaling=1, max_iter=100, multi_class='ovr', n_jobs=1,\n",
       "          penalty='l1', random_state=42, solver='liblinear', tol=0.0001,\n",
       "          verbose=0, warm_start=False)"
      ]
     },
     "execution_count": 24,
     "metadata": {},
     "output_type": "execute_result"
    }
   ],
   "source": [
    "# Choose the type of classifier. \n",
    "lg = LogisticRegression(random_state=42, penalty='l1')\n",
    "parameters = {'C':[0.5]}\n",
    "\n",
    "# Use classification accuracy to compare parameter combinations\n",
    "acc_scorer_lg = make_scorer(accuracy_score)\n",
    "\n",
    "# Run a grid search for the Logistic Regression classifier and all the selected parameters\n",
    "grid_obj_lg = GridSearchCV(lg, parameters, scoring=acc_scorer_lg)\n",
    "grid_obj_lg = grid_obj_lg.fit(X_train, y_train)\n",
    "\n",
    "# Set our classifier, lg, to have the best combination of parameters\n",
    "lg = grid_obj_lg.best_estimator_\n",
    "\n",
    "# Fit the selected classifier to the training data. \n",
    "lg.fit(X_train, y_train)"
   ]
  },
  {
   "cell_type": "code",
   "execution_count": 25,
   "metadata": {},
   "outputs": [
    {
     "name": "stdout",
     "output_type": "stream",
     "text": [
      "0.786542923434\n"
     ]
    }
   ],
   "source": [
    "#predict the results for X_test and print out the accuracy score\n",
    "predictions_lg = lg.predict(X_test)\n",
    "print(accuracy_score(y_test, predictions_lg))"
   ]
  },
  {
   "cell_type": "code",
   "execution_count": 26,
   "metadata": {},
   "outputs": [
    {
     "name": "stdout",
     "output_type": "stream",
     "text": [
      "Fold 1 accuracy: 0.7900122799836267\n",
      "Fold 2 accuracy: 0.7821457821457821\n",
      "Fold 3 accuracy: 0.7788697788697788\n",
      "Fold 4 accuracy: 0.7968877968877969\n",
      "Fold 5 accuracy: 0.7948402948402948\n",
      "Fold 6 accuracy: 0.7948402948402948\n",
      "Fold 7 accuracy: 0.7825552825552825\n",
      "Fold 8 accuracy: 0.778050778050778\n",
      "Fold 9 accuracy: 0.7866502866502867\n",
      "Fold 10 accuracy: 0.782964782964783\n",
      "Mean Accuracy: 0.7867817357788705\n"
     ]
    }
   ],
   "source": [
    "#run a seprated kfold with the model at its best estimator\n",
    "run_kfold(lg)"
   ]
  },
  {
   "cell_type": "markdown",
   "metadata": {},
   "source": [
    "#### Logistic Regression Classifier Discussion\n",
    "K-fold shows little variaitions accoress the folds so the accruacy is stable around the mean at 78%\n",
    "Logistic Regression Predicts Probabilities so it predict how likely a particulate sample belong to a certain class by calculating the probobility for each class and then pick the highest. Pros: low variance Cons: high bias. I chose this one to compare against other classifier and it is easy to implememnt and useful."
   ]
  },
  {
   "cell_type": "markdown",
   "metadata": {},
   "source": [
    "#### Model 3 - K-Nearest Neighbors\n",
    "Model tunning included using Grid_Search to try out differnt parameter combinations\n",
    "and find out the best set of paramaters and use it for the final model"
   ]
  },
  {
   "cell_type": "code",
   "execution_count": 27,
   "metadata": {
    "collapsed": true
   },
   "outputs": [],
   "source": [
    "#import module\n",
    "import sklearn.neighbors"
   ]
  },
  {
   "cell_type": "code",
   "execution_count": 28,
   "metadata": {},
   "outputs": [
    {
     "data": {
      "text/plain": [
       "KNeighborsClassifier(algorithm='auto', leaf_size=30, metric='minkowski',\n",
       "           metric_params=None, n_jobs=1, n_neighbors=20, p=2,\n",
       "           weights='uniform')"
      ]
     },
     "execution_count": 28,
     "metadata": {},
     "output_type": "execute_result"
    }
   ],
   "source": [
    "# Choose the type of classifier. \n",
    "knn = sklearn.neighbors.KNeighborsClassifier()\n",
    "\n",
    "k = np.arange(20)+1\n",
    "parameters = {'n_neighbors': k}\n",
    "\n",
    "# Use classification accuracy to compare parameter combinations\n",
    "acc_scorer_knn = make_scorer(accuracy_score)\n",
    "\n",
    "# Run a grid search for the K-Nearest Neighbors classifier and all the selected parameters\n",
    "grid_obj_knn = GridSearchCV(knn, parameters, scoring=acc_scorer_knn)\n",
    "grid_obj_knn = grid_obj_knn.fit(X_train, y_train)\n",
    "\n",
    "# Set our classifier, knn, to have the best combination of parameters\n",
    "knn = grid_obj_knn.best_estimator_\n",
    "\n",
    "# Fit the selected classifier to the training data. \n",
    "knn.fit(X_train, y_train)"
   ]
  },
  {
   "cell_type": "code",
   "execution_count": 29,
   "metadata": {},
   "outputs": [
    {
     "name": "stdout",
     "output_type": "stream",
     "text": [
      "0.782039033711\n"
     ]
    }
   ],
   "source": [
    "#predict the results for X_test and print out the accuracy score\n",
    "predictions_knn = knn.predict(X_test)\n",
    "print(accuracy_score(y_test, predictions_knn))"
   ]
  },
  {
   "cell_type": "code",
   "execution_count": 30,
   "metadata": {},
   "outputs": [
    {
     "name": "stdout",
     "output_type": "stream",
     "text": [
      "Fold 1 accuracy: 0.7777322963569382\n",
      "Fold 2 accuracy: 0.7870597870597871\n",
      "Fold 3 accuracy: 0.769041769041769\n",
      "Fold 4 accuracy: 0.7977067977067978\n",
      "Fold 5 accuracy: 0.7911547911547911\n",
      "Fold 6 accuracy: 0.7841932841932842\n",
      "Fold 7 accuracy: 0.7854217854217854\n",
      "Fold 8 accuracy: 0.782964782964783\n",
      "Fold 9 accuracy: 0.7858312858312858\n",
      "Fold 10 accuracy: 0.7723177723177723\n",
      "Mean Accuracy: 0.7833424352048994\n"
     ]
    }
   ],
   "source": [
    "#run a seprated kfold with the model at its best estimator\n",
    "run_kfold(knn)"
   ]
  },
  {
   "cell_type": "markdown",
   "metadata": {},
   "source": [
    "####  K-Nearest Neighbors Classifier Discussion\n",
    "K-fold shows little variaitions accoress the folds so the accruacy is stable around the mean at 78%\n",
    "K-nearest neighbor classifier essentially formes a majority vote between the K most similar instances to a given “unseen” observation. Similarity is defined according to a distance metric between two data points. Pros: simple to understand and easy to implement. Cons: computationally expensive. I chose this one to compare against other classifier and it is easy to implememnt and useful."
   ]
  },
  {
   "cell_type": "markdown",
   "metadata": {
    "collapsed": true
   },
   "source": [
    "#### Model 4 - Decision Tree\n",
    "Model tunning included using Grid_Search to try out differnt parameter combinations\n",
    "and find out the best set of paramaters and use it for the final model"
   ]
  },
  {
   "cell_type": "code",
   "execution_count": 31,
   "metadata": {
    "collapsed": true
   },
   "outputs": [],
   "source": [
    "#import module\n",
    "from sklearn import tree"
   ]
  },
  {
   "cell_type": "code",
   "execution_count": 32,
   "metadata": {},
   "outputs": [
    {
     "data": {
      "text/plain": [
       "DecisionTreeClassifier(class_weight=None, criterion='entropy', max_depth=6,\n",
       "            max_features=None, max_leaf_nodes=None,\n",
       "            min_impurity_decrease=0.0, min_impurity_split=None,\n",
       "            min_samples_leaf=1, min_samples_split=2,\n",
       "            min_weight_fraction_leaf=0.0, presort=False, random_state=None,\n",
       "            splitter='best')"
      ]
     },
     "execution_count": 32,
     "metadata": {},
     "output_type": "execute_result"
    }
   ],
   "source": [
    "# Choose the type of classifier. \n",
    "tre = tree.DecisionTreeClassifier()\n",
    "\n",
    "parameters = {'criterion':['gini','entropy'], \\\n",
    "              'max_depth':[4,5,6,7,8,9,10,11,12,15,20,30,40,50,70,90,120,150]}\n",
    "\n",
    "# Use classification accuracy to compare parameter combinations\n",
    "acc_scorer_tre = make_scorer(accuracy_score)\n",
    "\n",
    "# Run a grid search for the Decision Tree classifier and all the selected parameters\n",
    "grid_obj_tre = GridSearchCV(tre, parameters, scoring=acc_scorer_tre)\n",
    "grid_obj_tre = grid_obj_tre.fit(X_train, y_train)\n",
    "\n",
    "# Set our classifier, tre, to have the best combination of parameters\n",
    "tre = grid_obj_tre.best_estimator_\n",
    "\n",
    "# Fit the selected classifier to the training data. \n",
    "tre.fit(X_train, y_train)"
   ]
  },
  {
   "cell_type": "code",
   "execution_count": 33,
   "metadata": {},
   "outputs": [
    {
     "name": "stdout",
     "output_type": "stream",
     "text": [
      "0.785178108366\n"
     ]
    }
   ],
   "source": [
    "#predict the results for X_test and print out the accuracy score\n",
    "predictions_tre = tre.predict(X_test)\n",
    "print(accuracy_score(y_test, predictions_tre))"
   ]
  },
  {
   "cell_type": "code",
   "execution_count": 34,
   "metadata": {
    "scrolled": true
   },
   "outputs": [
    {
     "name": "stdout",
     "output_type": "stream",
     "text": [
      "Fold 1 accuracy: 0.7851002865329513\n",
      "Fold 2 accuracy: 0.7825552825552825\n",
      "Fold 3 accuracy: 0.7698607698607699\n",
      "Fold 4 accuracy: 0.7923832923832924\n",
      "Fold 5 accuracy: 0.7923832923832924\n",
      "Fold 6 accuracy: 0.785012285012285\n",
      "Fold 7 accuracy: 0.7825552825552825\n",
      "Fold 8 accuracy: 0.7800982800982801\n",
      "Fold 9 accuracy: 0.7854217854217854\n",
      "Fold 10 accuracy: 0.778050778050778\n",
      "Mean Accuracy: 0.7833421334853999\n"
     ]
    }
   ],
   "source": [
    "#run a seprated kfold with the model at its best estimator\n",
    "run_kfold(tre)"
   ]
  },
  {
   "cell_type": "markdown",
   "metadata": {},
   "source": [
    "####  Decision Tree Classifier Discussion\n",
    "K-fold shows little variaitions accoress the folds so the accruacy is stable around the mean at 78%\n",
    "The decision tree is used to visually and explicitly represent decisions and decision making. It uses a tree-like model of decisions. So growing a tree involves deciding on which features to choose and what conditions to use for splitting, along with knowing when to stop. Pros: easy to interpret visually when the trees only contain several levels. Cons: prone to overfitting. I chose this one to compare against other classifier and it is easy to implememnt and useful."
   ]
  },
  {
   "cell_type": "markdown",
   "metadata": {},
   "source": [
    "#### Accuracy Across Models\n",
    "The Accurancy Scores show that the best classifiers are Random Forest Classifier and Logistic Regression with an overall accurancy of 78.7%"
   ]
  },
  {
   "cell_type": "markdown",
   "metadata": {},
   "source": [
    "#### Performance measurements and why different measurements?\n",
    "The measurements investigated here for the four models are: Accuracy, True Positive Rate and False Positive Rate.\n",
    "The accuracy alone is not always a good indicator of how good a classfier is so I use 2 additinal measurements.\n",
    "\n",
    "The False Positive Rate refers to the probability of falsely rejecting the null hypothesis for a particular test so we want it to be low, while True Positive Rate measures the proportion of positives that are correctly identified so we need it to be high."
   ]
  },
  {
   "cell_type": "code",
   "execution_count": 35,
   "metadata": {
    "collapsed": true
   },
   "outputs": [],
   "source": [
    "#import module\n",
    "from sklearn import metrics"
   ]
  },
  {
   "cell_type": "code",
   "execution_count": 36,
   "metadata": {
    "collapsed": true
   },
   "outputs": [],
   "source": [
    "#Define a function to find the confusion matrix for computing False Positive Rate and True Positive Rate\n",
    "def find_matrx (confu):\n",
    "    \n",
    "    FP = confu.sum(axis=0) - np.diag(confu)  \n",
    "    FN = confu.sum(axis=1) - np.diag(confu)\n",
    "    TP = np.diag(confu)\n",
    "    TN = confu.sum() - (FP + FN + TP)\n",
    "    \n",
    "    true_positive_rate = TP.sum()/float((TP+FN).sum())\n",
    "    false_positive_rate = FP.sum() / float((TN + FP).sum())\n",
    "    \n",
    "    return ('True Positive Rate = %f' %true_positive_rate, 'False Positive Rate= %f' %false_positive_rate)"
   ]
  },
  {
   "cell_type": "markdown",
   "metadata": {},
   "source": [
    "#### Model 1 - Random Forest Classifier"
   ]
  },
  {
   "cell_type": "code",
   "execution_count": 37,
   "metadata": {
    "scrolled": true
   },
   "outputs": [
    {
     "data": {
      "text/html": [
       "<div>\n",
       "<style scoped>\n",
       "    .dataframe tbody tr th:only-of-type {\n",
       "        vertical-align: middle;\n",
       "    }\n",
       "\n",
       "    .dataframe tbody tr th {\n",
       "        vertical-align: top;\n",
       "    }\n",
       "\n",
       "    .dataframe thead th {\n",
       "        text-align: right;\n",
       "    }\n",
       "</style>\n",
       "<table border=\"1\" class=\"dataframe\">\n",
       "  <thead>\n",
       "    <tr style=\"text-align: right;\">\n",
       "      <th></th>\n",
       "      <th>Predicted Class &lt;50K</th>\n",
       "      <th>Predicted Class 50-100K</th>\n",
       "      <th>Predicted Class &gt;100K</th>\n",
       "    </tr>\n",
       "  </thead>\n",
       "  <tbody>\n",
       "    <tr>\n",
       "      <th>True Class &lt;50K</th>\n",
       "      <td>463</td>\n",
       "      <td>729</td>\n",
       "      <td>7</td>\n",
       "    </tr>\n",
       "    <tr>\n",
       "      <th>True Class 50-100K</th>\n",
       "      <td>273</td>\n",
       "      <td>5270</td>\n",
       "      <td>9</td>\n",
       "    </tr>\n",
       "    <tr>\n",
       "      <th>True Class &gt;100K</th>\n",
       "      <td>233</td>\n",
       "      <td>339</td>\n",
       "      <td>4</td>\n",
       "    </tr>\n",
       "  </tbody>\n",
       "</table>\n",
       "</div>"
      ],
      "text/plain": [
       "                    Predicted Class <50K  Predicted Class 50-100K  \\\n",
       "True Class <50K                      463                      729   \n",
       "True Class 50-100K                   273                     5270   \n",
       "True Class >100K                     233                      339   \n",
       "\n",
       "                    Predicted Class >100K  \n",
       "True Class <50K                         7  \n",
       "True Class 50-100K                      9  \n",
       "True Class >100K                        4  "
      ]
     },
     "execution_count": 37,
     "metadata": {},
     "output_type": "execute_result"
    }
   ],
   "source": [
    "confusion_rdc = metrics.confusion_matrix(y_test, predictions_rdc)\n",
    "pd.DataFrame(confusion_rdc, \\\n",
    "             columns=['Predicted Class <50K', 'Predicted Class 50-100K', 'Predicted Class >100K'], \\\n",
    "             index=['True Class <50K', 'True Class 50-100K', 'True Class >100K'])"
   ]
  },
  {
   "cell_type": "code",
   "execution_count": 38,
   "metadata": {
    "scrolled": true
   },
   "outputs": [
    {
     "name": "stdout",
     "output_type": "stream",
     "text": [
      "('True Positive Rate = 0.782994', 'False Positive Rate= 0.108503')\n",
      "Overall accuracy = 0.782994\n"
     ]
    }
   ],
   "source": [
    "print (find_matrx(confusion_rdc))\n",
    "print ('Overall accuracy = %f'%accuracy_score(y_test, predictions_rdc))"
   ]
  },
  {
   "cell_type": "markdown",
   "metadata": {},
   "source": [
    "#### Model 2 - Logistic Regression"
   ]
  },
  {
   "cell_type": "code",
   "execution_count": 39,
   "metadata": {
    "scrolled": true
   },
   "outputs": [
    {
     "data": {
      "text/html": [
       "<div>\n",
       "<style scoped>\n",
       "    .dataframe tbody tr th:only-of-type {\n",
       "        vertical-align: middle;\n",
       "    }\n",
       "\n",
       "    .dataframe tbody tr th {\n",
       "        vertical-align: top;\n",
       "    }\n",
       "\n",
       "    .dataframe thead th {\n",
       "        text-align: right;\n",
       "    }\n",
       "</style>\n",
       "<table border=\"1\" class=\"dataframe\">\n",
       "  <thead>\n",
       "    <tr style=\"text-align: right;\">\n",
       "      <th></th>\n",
       "      <th>Predicted Class &lt;50K</th>\n",
       "      <th>Predicted Class 50-100K</th>\n",
       "      <th>Predicted Class &gt;100K</th>\n",
       "    </tr>\n",
       "  </thead>\n",
       "  <tbody>\n",
       "    <tr>\n",
       "      <th>True Class &lt;50K</th>\n",
       "      <td>511</td>\n",
       "      <td>684</td>\n",
       "      <td>4</td>\n",
       "    </tr>\n",
       "    <tr>\n",
       "      <th>True Class 50-100K</th>\n",
       "      <td>302</td>\n",
       "      <td>5248</td>\n",
       "      <td>2</td>\n",
       "    </tr>\n",
       "    <tr>\n",
       "      <th>True Class &gt;100K</th>\n",
       "      <td>263</td>\n",
       "      <td>309</td>\n",
       "      <td>4</td>\n",
       "    </tr>\n",
       "  </tbody>\n",
       "</table>\n",
       "</div>"
      ],
      "text/plain": [
       "                    Predicted Class <50K  Predicted Class 50-100K  \\\n",
       "True Class <50K                      511                      684   \n",
       "True Class 50-100K                   302                     5248   \n",
       "True Class >100K                     263                      309   \n",
       "\n",
       "                    Predicted Class >100K  \n",
       "True Class <50K                         4  \n",
       "True Class 50-100K                      2  \n",
       "True Class >100K                        4  "
      ]
     },
     "execution_count": 39,
     "metadata": {},
     "output_type": "execute_result"
    }
   ],
   "source": [
    "mconfusion_lg = metrics.confusion_matrix(y_test, predictions_lg)\n",
    "pd.DataFrame(mconfusion_lg, \\\n",
    "             columns=['Predicted Class <50K', 'Predicted Class 50-100K', 'Predicted Class >100K'], \\\n",
    "             index=['True Class <50K', 'True Class 50-100K', 'True Class >100K'])"
   ]
  },
  {
   "cell_type": "code",
   "execution_count": 40,
   "metadata": {
    "scrolled": true
   },
   "outputs": [
    {
     "name": "stdout",
     "output_type": "stream",
     "text": [
      "('True Positive Rate = 0.786543', 'False Positive Rate= 0.106729')\n",
      "Overall accuracy = 0.786543\n"
     ]
    }
   ],
   "source": [
    "print (find_matrx(mconfusion_lg))\n",
    "print ('Overall accuracy = %f'%accuracy_score(y_test, predictions_lg))"
   ]
  },
  {
   "cell_type": "markdown",
   "metadata": {},
   "source": [
    "#### Model 3 - K-NN"
   ]
  },
  {
   "cell_type": "code",
   "execution_count": 41,
   "metadata": {},
   "outputs": [
    {
     "data": {
      "text/html": [
       "<div>\n",
       "<style scoped>\n",
       "    .dataframe tbody tr th:only-of-type {\n",
       "        vertical-align: middle;\n",
       "    }\n",
       "\n",
       "    .dataframe tbody tr th {\n",
       "        vertical-align: top;\n",
       "    }\n",
       "\n",
       "    .dataframe thead th {\n",
       "        text-align: right;\n",
       "    }\n",
       "</style>\n",
       "<table border=\"1\" class=\"dataframe\">\n",
       "  <thead>\n",
       "    <tr style=\"text-align: right;\">\n",
       "      <th></th>\n",
       "      <th>Predicted Class &lt;50K</th>\n",
       "      <th>Predicted Class 50-100K</th>\n",
       "      <th>Predicted Class &gt;100K</th>\n",
       "    </tr>\n",
       "  </thead>\n",
       "  <tbody>\n",
       "    <tr>\n",
       "      <th>True Class &lt;50K</th>\n",
       "      <td>522</td>\n",
       "      <td>657</td>\n",
       "      <td>20</td>\n",
       "    </tr>\n",
       "    <tr>\n",
       "      <th>True Class 50-100K</th>\n",
       "      <td>344</td>\n",
       "      <td>5192</td>\n",
       "      <td>16</td>\n",
       "    </tr>\n",
       "    <tr>\n",
       "      <th>True Class &gt;100K</th>\n",
       "      <td>251</td>\n",
       "      <td>309</td>\n",
       "      <td>16</td>\n",
       "    </tr>\n",
       "  </tbody>\n",
       "</table>\n",
       "</div>"
      ],
      "text/plain": [
       "                    Predicted Class <50K  Predicted Class 50-100K  \\\n",
       "True Class <50K                      522                      657   \n",
       "True Class 50-100K                   344                     5192   \n",
       "True Class >100K                     251                      309   \n",
       "\n",
       "                    Predicted Class >100K  \n",
       "True Class <50K                        20  \n",
       "True Class 50-100K                     16  \n",
       "True Class >100K                       16  "
      ]
     },
     "execution_count": 41,
     "metadata": {},
     "output_type": "execute_result"
    }
   ],
   "source": [
    "mconfusion_knn = metrics.confusion_matrix(y_test, predictions_knn)\n",
    "pd.DataFrame(mconfusion_knn, \\\n",
    "             columns=['Predicted Class <50K', 'Predicted Class 50-100K', 'Predicted Class >100K'], \\\n",
    "             index=['True Class <50K', 'True Class 50-100K', 'True Class >100K'])"
   ]
  },
  {
   "cell_type": "code",
   "execution_count": 42,
   "metadata": {},
   "outputs": [
    {
     "name": "stdout",
     "output_type": "stream",
     "text": [
      "('True Positive Rate = 0.782039', 'False Positive Rate= 0.108980')\n",
      "Overall accuracy = 0.782039\n"
     ]
    }
   ],
   "source": [
    "print (find_matrx(mconfusion_knn))\n",
    "print ('Overall accuracy = %f'%accuracy_score(y_test, predictions_knn))"
   ]
  },
  {
   "cell_type": "markdown",
   "metadata": {},
   "source": [
    "#### Model 4 - Decision Tree"
   ]
  },
  {
   "cell_type": "code",
   "execution_count": 43,
   "metadata": {},
   "outputs": [
    {
     "data": {
      "text/html": [
       "<div>\n",
       "<style scoped>\n",
       "    .dataframe tbody tr th:only-of-type {\n",
       "        vertical-align: middle;\n",
       "    }\n",
       "\n",
       "    .dataframe tbody tr th {\n",
       "        vertical-align: top;\n",
       "    }\n",
       "\n",
       "    .dataframe thead th {\n",
       "        text-align: right;\n",
       "    }\n",
       "</style>\n",
       "<table border=\"1\" class=\"dataframe\">\n",
       "  <thead>\n",
       "    <tr style=\"text-align: right;\">\n",
       "      <th></th>\n",
       "      <th>Predicted Class &lt;50K</th>\n",
       "      <th>Predicted Class 50-100K</th>\n",
       "      <th>Predicted Class &gt;100K</th>\n",
       "    </tr>\n",
       "  </thead>\n",
       "  <tbody>\n",
       "    <tr>\n",
       "      <th>True Class &lt;50K</th>\n",
       "      <td>505</td>\n",
       "      <td>694</td>\n",
       "      <td>0</td>\n",
       "    </tr>\n",
       "    <tr>\n",
       "      <th>True Class 50-100K</th>\n",
       "      <td>304</td>\n",
       "      <td>5248</td>\n",
       "      <td>0</td>\n",
       "    </tr>\n",
       "    <tr>\n",
       "      <th>True Class &gt;100K</th>\n",
       "      <td>253</td>\n",
       "      <td>323</td>\n",
       "      <td>0</td>\n",
       "    </tr>\n",
       "  </tbody>\n",
       "</table>\n",
       "</div>"
      ],
      "text/plain": [
       "                    Predicted Class <50K  Predicted Class 50-100K  \\\n",
       "True Class <50K                      505                      694   \n",
       "True Class 50-100K                   304                     5248   \n",
       "True Class >100K                     253                      323   \n",
       "\n",
       "                    Predicted Class >100K  \n",
       "True Class <50K                         0  \n",
       "True Class 50-100K                      0  \n",
       "True Class >100K                        0  "
      ]
     },
     "execution_count": 43,
     "metadata": {},
     "output_type": "execute_result"
    }
   ],
   "source": [
    "mconfusion_tre = metrics.confusion_matrix(y_test, predictions_tre)\n",
    "pd.DataFrame(mconfusion_tre, \\\n",
    "             columns=['Predicted Class <50K', 'Predicted Class 50-100K', 'Predicted Class >100K'], \\\n",
    "             index=['True Class <50K', 'True Class 50-100K', 'True Class >100K'])"
   ]
  },
  {
   "cell_type": "code",
   "execution_count": 44,
   "metadata": {},
   "outputs": [
    {
     "name": "stdout",
     "output_type": "stream",
     "text": [
      "('True Positive Rate = 0.785178', 'False Positive Rate= 0.107411')\n",
      "Overall accuracy = 0.785178\n"
     ]
    }
   ],
   "source": [
    "print (find_matrx(mconfusion_tre))\n",
    "print ('Overall accuracy = %f'%accuracy_score(y_test, predictions_tre))"
   ]
  },
  {
   "cell_type": "markdown",
   "metadata": {},
   "source": [
    "#### Performace Measurements Conclusion\n",
    "The Overall Accuracy scores and the True Positive Rate show that the Logistic Regression Classifier is the best with 78.7% accuracy and 78.7% True Positive Rate and a moderate low False Positive Rate of 10.67%. However, Random Forest classifier also has a very similar perfermace result with 78.3% accuracy and True Positive Rate and a 10.85% low False Positive Rate\n",
    "Therefore, I will use both the Random Forest Classifier and Logistic Regression Classifier at their best parameters for the testing set."
   ]
  },
  {
   "cell_type": "markdown",
   "metadata": {},
   "source": [
    "### Testing"
   ]
  },
  {
   "cell_type": "code",
   "execution_count": 45,
   "metadata": {
    "collapsed": true
   },
   "outputs": [],
   "source": [
    "#Seperate the target varaible - \"IncomeBracket\" column from the orignal dataframe\n",
    "#Put them into feature objects and target object to prepare for subsequent analysis\n",
    "test_data_features=test_data.drop(['IncomeBracket'], axis=1).values\n",
    "test_data_targets=test_data.IncomeBracket.values"
   ]
  },
  {
   "cell_type": "code",
   "execution_count": 46,
   "metadata": {},
   "outputs": [
    {
     "name": "stderr",
     "output_type": "stream",
     "text": [
      "/Applications/anaconda3/lib/python3.6/site-packages/sklearn/utils/validation.py:475: DataConversionWarning: Data with input dtype int64 was converted to float64 by StandardScaler.\n",
      "  warnings.warn(msg, DataConversionWarning)\n"
     ]
    }
   ],
   "source": [
    "#Normalize the feature values as they were measured in differnt scales\n",
    "test_data_features_std = StandardScaler().fit_transform(test_data_features)"
   ]
  },
  {
   "cell_type": "code",
   "execution_count": 47,
   "metadata": {
    "collapsed": true
   },
   "outputs": [],
   "source": [
    "#Similarly, using 55 PCA principal components to get features from the featuture objects\n",
    "pca_test = PCA(n_components=55)\n",
    "test_data_pca = pca_test.fit_transform(test_data_features_std)"
   ]
  },
  {
   "cell_type": "code",
   "execution_count": 48,
   "metadata": {
    "collapsed": true
   },
   "outputs": [],
   "source": [
    "#all 55 PCA principal components are used as the predictors/features\n",
    "#y-all the incomebracket values are the target\n",
    "X = test_data_pca\n",
    "y = test_data_targets"
   ]
  },
  {
   "cell_type": "code",
   "execution_count": 49,
   "metadata": {},
   "outputs": [
    {
     "name": "stdout",
     "output_type": "stream",
     "text": [
      "0.749160592908\n"
     ]
    }
   ],
   "source": [
    "#Using the trained Random Forest Classifier at its best parameters to predict and print the score \n",
    "predictions_rdc_test = rdc.predict(X)\n",
    "print(accuracy_score(y, predictions_rdc_test))"
   ]
  },
  {
   "cell_type": "code",
   "execution_count": 50,
   "metadata": {},
   "outputs": [
    {
     "name": "stdout",
     "output_type": "stream",
     "text": [
      "0.765211694374\n"
     ]
    }
   ],
   "source": [
    "#Using my trained optimal model - Logistic Regression Classifier at its best parameters to predict and print the score \n",
    "predictions_lg_test = lg.predict(X)\n",
    "print(accuracy_score(y, predictions_lg_test))"
   ]
  },
  {
   "cell_type": "markdown",
   "metadata": {},
   "source": [
    "#### Testing Discussion\n",
    "As previously explained, I picked the Logistic Regression Classifier as my optimal model, however, since the Random Forest Classifier had a very similar performace, I used both Logistic Regression and Random Forest for the final testing.\n",
    "\n",
    "Model performace - Logistic Regression Model accurancy score droped from 78.7% down to 76.5%, while the Random Forest Classifier droped from 78.3% down to 74.9%. The accuracy decreases are expected because the models were built using a different set of data, the model may represent that dataset well but it may be limited in describing a new set of data. Regardless, the smaller decrease of accuracy with Logistic Regression Model futher indicated that the Logistic Regression is a better classifier in this case."
   ]
  }
 ],
 "metadata": {
  "kernelspec": {
   "display_name": "Python 2",
   "language": "python",
   "name": "python2"
  },
  "language_info": {
   "codemirror_mode": {
    "name": "ipython",
    "version": 2
   },
   "file_extension": ".py",
   "mimetype": "text/x-python",
   "name": "python",
   "nbconvert_exporter": "python",
   "pygments_lexer": "ipython2",
   "version": "2.7.14"
  }
 },
 "nbformat": 4,
 "nbformat_minor": 2
}
